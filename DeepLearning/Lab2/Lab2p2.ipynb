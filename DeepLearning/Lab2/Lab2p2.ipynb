{
  "nbformat": 4,
  "nbformat_minor": 0,
  "metadata": {
    "colab": {
      "name": "Untitled3.ipynb",
      "provenance": [],
      "collapsed_sections": []
    },
    "kernelspec": {
      "name": "python3",
      "display_name": "Python 3"
    }
  },
  "cells": [
    {
      "cell_type": "code",
      "metadata": {
        "id": "hpQ_4G0C-uHk",
        "colab_type": "code",
        "colab": {}
      },
      "source": [
        "import pandas as pd\n",
        "import numpy as np\n",
        "import matplotlib.pyplot as plt \n"
      ],
      "execution_count": 1,
      "outputs": []
    },
    {
      "cell_type": "code",
      "metadata": {
        "id": "J-vEHu6K_DMV",
        "colab_type": "code",
        "colab": {}
      },
      "source": [
        "data = pd.read_csv(\"https://raw.githubusercontent.com/JWarmenhoven/ISLR-python/master/Notebooks/Data/Advertising.csv\")"
      ],
      "execution_count": 2,
      "outputs": []
    },
    {
      "cell_type": "code",
      "metadata": {
        "id": "V4ncGqon_Ot5",
        "colab_type": "code",
        "colab": {
          "base_uri": "https://localhost:8080/",
          "height": 204
        },
        "outputId": "585e7503-678d-4bb1-e854-585b8479154e"
      },
      "source": [
        "data.head()"
      ],
      "execution_count": 3,
      "outputs": [
        {
          "output_type": "execute_result",
          "data": {
            "text/html": [
              "<div>\n",
              "<style scoped>\n",
              "    .dataframe tbody tr th:only-of-type {\n",
              "        vertical-align: middle;\n",
              "    }\n",
              "\n",
              "    .dataframe tbody tr th {\n",
              "        vertical-align: top;\n",
              "    }\n",
              "\n",
              "    .dataframe thead th {\n",
              "        text-align: right;\n",
              "    }\n",
              "</style>\n",
              "<table border=\"1\" class=\"dataframe\">\n",
              "  <thead>\n",
              "    <tr style=\"text-align: right;\">\n",
              "      <th></th>\n",
              "      <th>Unnamed: 0</th>\n",
              "      <th>TV</th>\n",
              "      <th>Radio</th>\n",
              "      <th>Newspaper</th>\n",
              "      <th>Sales</th>\n",
              "    </tr>\n",
              "  </thead>\n",
              "  <tbody>\n",
              "    <tr>\n",
              "      <th>0</th>\n",
              "      <td>1</td>\n",
              "      <td>230.1</td>\n",
              "      <td>37.8</td>\n",
              "      <td>69.2</td>\n",
              "      <td>22.1</td>\n",
              "    </tr>\n",
              "    <tr>\n",
              "      <th>1</th>\n",
              "      <td>2</td>\n",
              "      <td>44.5</td>\n",
              "      <td>39.3</td>\n",
              "      <td>45.1</td>\n",
              "      <td>10.4</td>\n",
              "    </tr>\n",
              "    <tr>\n",
              "      <th>2</th>\n",
              "      <td>3</td>\n",
              "      <td>17.2</td>\n",
              "      <td>45.9</td>\n",
              "      <td>69.3</td>\n",
              "      <td>9.3</td>\n",
              "    </tr>\n",
              "    <tr>\n",
              "      <th>3</th>\n",
              "      <td>4</td>\n",
              "      <td>151.5</td>\n",
              "      <td>41.3</td>\n",
              "      <td>58.5</td>\n",
              "      <td>18.5</td>\n",
              "    </tr>\n",
              "    <tr>\n",
              "      <th>4</th>\n",
              "      <td>5</td>\n",
              "      <td>180.8</td>\n",
              "      <td>10.8</td>\n",
              "      <td>58.4</td>\n",
              "      <td>12.9</td>\n",
              "    </tr>\n",
              "  </tbody>\n",
              "</table>\n",
              "</div>"
            ],
            "text/plain": [
              "   Unnamed: 0     TV  Radio  Newspaper  Sales\n",
              "0           1  230.1   37.8       69.2   22.1\n",
              "1           2   44.5   39.3       45.1   10.4\n",
              "2           3   17.2   45.9       69.3    9.3\n",
              "3           4  151.5   41.3       58.5   18.5\n",
              "4           5  180.8   10.8       58.4   12.9"
            ]
          },
          "metadata": {
            "tags": []
          },
          "execution_count": 3
        }
      ]
    },
    {
      "cell_type": "code",
      "metadata": {
        "id": "SQ7R-mvva1H5",
        "colab_type": "code",
        "colab": {
          "base_uri": "https://localhost:8080/",
          "height": 255
        },
        "outputId": "d9fd1873-51f8-431d-a62c-79ff31c2bb12"
      },
      "source": [
        "print(data.isnull())"
      ],
      "execution_count": 4,
      "outputs": [
        {
          "output_type": "stream",
          "text": [
            "     Unnamed: 0     TV  Radio  Newspaper  Sales\n",
            "0         False  False  False      False  False\n",
            "1         False  False  False      False  False\n",
            "2         False  False  False      False  False\n",
            "3         False  False  False      False  False\n",
            "4         False  False  False      False  False\n",
            "..          ...    ...    ...        ...    ...\n",
            "195       False  False  False      False  False\n",
            "196       False  False  False      False  False\n",
            "197       False  False  False      False  False\n",
            "198       False  False  False      False  False\n",
            "199       False  False  False      False  False\n",
            "\n",
            "[200 rows x 5 columns]\n"
          ],
          "name": "stdout"
        }
      ]
    },
    {
      "cell_type": "code",
      "metadata": {
        "id": "xerDT9p0cZJU",
        "colab_type": "code",
        "colab": {
          "base_uri": "https://localhost:8080/",
          "height": 204
        },
        "outputId": "5a7a6b23-be2a-425a-8fe6-bf684f143ae2"
      },
      "source": [
        "s_type = []\n",
        "for i in data.Sales:\n",
        "  if(i>=15):\n",
        "    s_type.append(\"High\")\n",
        "  elif(i<15 and i>=5):\n",
        "    s_type.append(\"Medium\")\n",
        "  else:\n",
        "    s_type.append(\"Low\")\n",
        "\n",
        "data[\"Sales Type\"] = s_type\n",
        "data.head()\n",
        "  "
      ],
      "execution_count": 5,
      "outputs": [
        {
          "output_type": "execute_result",
          "data": {
            "text/html": [
              "<div>\n",
              "<style scoped>\n",
              "    .dataframe tbody tr th:only-of-type {\n",
              "        vertical-align: middle;\n",
              "    }\n",
              "\n",
              "    .dataframe tbody tr th {\n",
              "        vertical-align: top;\n",
              "    }\n",
              "\n",
              "    .dataframe thead th {\n",
              "        text-align: right;\n",
              "    }\n",
              "</style>\n",
              "<table border=\"1\" class=\"dataframe\">\n",
              "  <thead>\n",
              "    <tr style=\"text-align: right;\">\n",
              "      <th></th>\n",
              "      <th>Unnamed: 0</th>\n",
              "      <th>TV</th>\n",
              "      <th>Radio</th>\n",
              "      <th>Newspaper</th>\n",
              "      <th>Sales</th>\n",
              "      <th>Sales Type</th>\n",
              "    </tr>\n",
              "  </thead>\n",
              "  <tbody>\n",
              "    <tr>\n",
              "      <th>0</th>\n",
              "      <td>1</td>\n",
              "      <td>230.1</td>\n",
              "      <td>37.8</td>\n",
              "      <td>69.2</td>\n",
              "      <td>22.1</td>\n",
              "      <td>High</td>\n",
              "    </tr>\n",
              "    <tr>\n",
              "      <th>1</th>\n",
              "      <td>2</td>\n",
              "      <td>44.5</td>\n",
              "      <td>39.3</td>\n",
              "      <td>45.1</td>\n",
              "      <td>10.4</td>\n",
              "      <td>Medium</td>\n",
              "    </tr>\n",
              "    <tr>\n",
              "      <th>2</th>\n",
              "      <td>3</td>\n",
              "      <td>17.2</td>\n",
              "      <td>45.9</td>\n",
              "      <td>69.3</td>\n",
              "      <td>9.3</td>\n",
              "      <td>Medium</td>\n",
              "    </tr>\n",
              "    <tr>\n",
              "      <th>3</th>\n",
              "      <td>4</td>\n",
              "      <td>151.5</td>\n",
              "      <td>41.3</td>\n",
              "      <td>58.5</td>\n",
              "      <td>18.5</td>\n",
              "      <td>High</td>\n",
              "    </tr>\n",
              "    <tr>\n",
              "      <th>4</th>\n",
              "      <td>5</td>\n",
              "      <td>180.8</td>\n",
              "      <td>10.8</td>\n",
              "      <td>58.4</td>\n",
              "      <td>12.9</td>\n",
              "      <td>Medium</td>\n",
              "    </tr>\n",
              "  </tbody>\n",
              "</table>\n",
              "</div>"
            ],
            "text/plain": [
              "   Unnamed: 0     TV  Radio  Newspaper  Sales Sales Type\n",
              "0           1  230.1   37.8       69.2   22.1       High\n",
              "1           2   44.5   39.3       45.1   10.4     Medium\n",
              "2           3   17.2   45.9       69.3    9.3     Medium\n",
              "3           4  151.5   41.3       58.5   18.5       High\n",
              "4           5  180.8   10.8       58.4   12.9     Medium"
            ]
          },
          "metadata": {
            "tags": []
          },
          "execution_count": 5
        }
      ]
    },
    {
      "cell_type": "code",
      "metadata": {
        "id": "I-RJoLVkeXH1",
        "colab_type": "code",
        "colab": {
          "base_uri": "https://localhost:8080/",
          "height": 204
        },
        "outputId": "bd59eb91-0e98-419e-aeaf-08a3712523bf"
      },
      "source": [
        "data.groupby('Sales Type').agg({'TV': ['mean', 'min', 'max'],'Radio': ['mean', 'min', 'max'],'Newspaper': ['mean', 'min', 'max']})"
      ],
      "execution_count": 6,
      "outputs": [
        {
          "output_type": "execute_result",
          "data": {
            "text/html": [
              "<div>\n",
              "<style scoped>\n",
              "    .dataframe tbody tr th:only-of-type {\n",
              "        vertical-align: middle;\n",
              "    }\n",
              "\n",
              "    .dataframe tbody tr th {\n",
              "        vertical-align: top;\n",
              "    }\n",
              "\n",
              "    .dataframe thead tr th {\n",
              "        text-align: left;\n",
              "    }\n",
              "\n",
              "    .dataframe thead tr:last-of-type th {\n",
              "        text-align: right;\n",
              "    }\n",
              "</style>\n",
              "<table border=\"1\" class=\"dataframe\">\n",
              "  <thead>\n",
              "    <tr>\n",
              "      <th></th>\n",
              "      <th colspan=\"3\" halign=\"left\">TV</th>\n",
              "      <th colspan=\"3\" halign=\"left\">Radio</th>\n",
              "      <th colspan=\"3\" halign=\"left\">Newspaper</th>\n",
              "    </tr>\n",
              "    <tr>\n",
              "      <th></th>\n",
              "      <th>mean</th>\n",
              "      <th>min</th>\n",
              "      <th>max</th>\n",
              "      <th>mean</th>\n",
              "      <th>min</th>\n",
              "      <th>max</th>\n",
              "      <th>mean</th>\n",
              "      <th>min</th>\n",
              "      <th>max</th>\n",
              "    </tr>\n",
              "    <tr>\n",
              "      <th>Sales Type</th>\n",
              "      <th></th>\n",
              "      <th></th>\n",
              "      <th></th>\n",
              "      <th></th>\n",
              "      <th></th>\n",
              "      <th></th>\n",
              "      <th></th>\n",
              "      <th></th>\n",
              "      <th></th>\n",
              "    </tr>\n",
              "  </thead>\n",
              "  <tbody>\n",
              "    <tr>\n",
              "      <th>High</th>\n",
              "      <td>213.893506</td>\n",
              "      <td>93.9</td>\n",
              "      <td>296.4</td>\n",
              "      <td>33.689610</td>\n",
              "      <td>10.6</td>\n",
              "      <td>49.6</td>\n",
              "      <td>35.332468</td>\n",
              "      <td>0.3</td>\n",
              "      <td>100.9</td>\n",
              "    </tr>\n",
              "    <tr>\n",
              "      <th>Low</th>\n",
              "      <td>4.466667</td>\n",
              "      <td>0.7</td>\n",
              "      <td>8.6</td>\n",
              "      <td>17.766667</td>\n",
              "      <td>2.1</td>\n",
              "      <td>39.6</td>\n",
              "      <td>5.133333</td>\n",
              "      <td>1.0</td>\n",
              "      <td>8.7</td>\n",
              "    </tr>\n",
              "    <tr>\n",
              "      <th>Medium</th>\n",
              "      <td>107.710833</td>\n",
              "      <td>5.4</td>\n",
              "      <td>290.7</td>\n",
              "      <td>16.711667</td>\n",
              "      <td>0.0</td>\n",
              "      <td>49.4</td>\n",
              "      <td>28.123333</td>\n",
              "      <td>0.9</td>\n",
              "      <td>114.0</td>\n",
              "    </tr>\n",
              "  </tbody>\n",
              "</table>\n",
              "</div>"
            ],
            "text/plain": [
              "                    TV                   Radio  ...        Newspaper            \n",
              "                  mean   min    max       mean  ...   max       mean  min    max\n",
              "Sales Type                                      ...                             \n",
              "High        213.893506  93.9  296.4  33.689610  ...  49.6  35.332468  0.3  100.9\n",
              "Low           4.466667   0.7    8.6  17.766667  ...  39.6   5.133333  1.0    8.7\n",
              "Medium      107.710833   5.4  290.7  16.711667  ...  49.4  28.123333  0.9  114.0\n",
              "\n",
              "[3 rows x 9 columns]"
            ]
          },
          "metadata": {
            "tags": []
          },
          "execution_count": 6
        }
      ]
    },
    {
      "cell_type": "code",
      "metadata": {
        "id": "inPeKu_We73J",
        "colab_type": "code",
        "colab": {
          "base_uri": "https://localhost:8080/",
          "height": 34
        },
        "outputId": "ba594b25-8fe8-4a08-d3b7-8005c2c47eaf"
      },
      "source": [
        "a = data.values.reshape(-1,1)\n",
        "print(type(a))"
      ],
      "execution_count": 7,
      "outputs": [
        {
          "output_type": "stream",
          "text": [
            "<class 'numpy.ndarray'>\n"
          ],
          "name": "stdout"
        }
      ]
    },
    {
      "cell_type": "code",
      "metadata": {
        "id": "1KqBiofef-Tl",
        "colab_type": "code",
        "colab": {
          "base_uri": "https://localhost:8080/",
          "height": 204
        },
        "outputId": "7f720afa-c478-4e06-a7ba-80f0f75308d2"
      },
      "source": [
        "data.head(3).pivot(index ='TV', columns ='Sales', values =['Sales Type'])"
      ],
      "execution_count": 8,
      "outputs": [
        {
          "output_type": "execute_result",
          "data": {
            "text/html": [
              "<div>\n",
              "<style scoped>\n",
              "    .dataframe tbody tr th:only-of-type {\n",
              "        vertical-align: middle;\n",
              "    }\n",
              "\n",
              "    .dataframe tbody tr th {\n",
              "        vertical-align: top;\n",
              "    }\n",
              "\n",
              "    .dataframe thead tr th {\n",
              "        text-align: left;\n",
              "    }\n",
              "\n",
              "    .dataframe thead tr:last-of-type th {\n",
              "        text-align: right;\n",
              "    }\n",
              "</style>\n",
              "<table border=\"1\" class=\"dataframe\">\n",
              "  <thead>\n",
              "    <tr>\n",
              "      <th></th>\n",
              "      <th colspan=\"3\" halign=\"left\">Sales Type</th>\n",
              "    </tr>\n",
              "    <tr>\n",
              "      <th>Sales</th>\n",
              "      <th>9.3</th>\n",
              "      <th>10.4</th>\n",
              "      <th>22.1</th>\n",
              "    </tr>\n",
              "    <tr>\n",
              "      <th>TV</th>\n",
              "      <th></th>\n",
              "      <th></th>\n",
              "      <th></th>\n",
              "    </tr>\n",
              "  </thead>\n",
              "  <tbody>\n",
              "    <tr>\n",
              "      <th>17.2</th>\n",
              "      <td>Medium</td>\n",
              "      <td>NaN</td>\n",
              "      <td>NaN</td>\n",
              "    </tr>\n",
              "    <tr>\n",
              "      <th>44.5</th>\n",
              "      <td>NaN</td>\n",
              "      <td>Medium</td>\n",
              "      <td>NaN</td>\n",
              "    </tr>\n",
              "    <tr>\n",
              "      <th>230.1</th>\n",
              "      <td>NaN</td>\n",
              "      <td>NaN</td>\n",
              "      <td>High</td>\n",
              "    </tr>\n",
              "  </tbody>\n",
              "</table>\n",
              "</div>"
            ],
            "text/plain": [
              "      Sales Type              \n",
              "Sales       9.3     10.4  22.1\n",
              "TV                            \n",
              "17.2      Medium     NaN   NaN\n",
              "44.5         NaN  Medium   NaN\n",
              "230.1        NaN     NaN  High"
            ]
          },
          "metadata": {
            "tags": []
          },
          "execution_count": 8
        }
      ]
    },
    {
      "cell_type": "markdown",
      "metadata": {
        "id": "CAdExZ2Hg8Ol",
        "colab_type": "text"
      },
      "source": [
        "# Part B: Data modeling\n"
      ]
    },
    {
      "cell_type": "code",
      "metadata": {
        "id": "fp38S6Rcg28o",
        "colab_type": "code",
        "colab": {
          "base_uri": "https://localhost:8080/",
          "height": 419
        },
        "outputId": "ab5d4a0d-8002-47bc-f83f-b6d143c5fb03"
      },
      "source": [
        "data.iloc[::6,1] = np.nan\n",
        "data.iloc[::10,3] = np.nan\n",
        "data"
      ],
      "execution_count": 9,
      "outputs": [
        {
          "output_type": "execute_result",
          "data": {
            "text/html": [
              "<div>\n",
              "<style scoped>\n",
              "    .dataframe tbody tr th:only-of-type {\n",
              "        vertical-align: middle;\n",
              "    }\n",
              "\n",
              "    .dataframe tbody tr th {\n",
              "        vertical-align: top;\n",
              "    }\n",
              "\n",
              "    .dataframe thead th {\n",
              "        text-align: right;\n",
              "    }\n",
              "</style>\n",
              "<table border=\"1\" class=\"dataframe\">\n",
              "  <thead>\n",
              "    <tr style=\"text-align: right;\">\n",
              "      <th></th>\n",
              "      <th>Unnamed: 0</th>\n",
              "      <th>TV</th>\n",
              "      <th>Radio</th>\n",
              "      <th>Newspaper</th>\n",
              "      <th>Sales</th>\n",
              "      <th>Sales Type</th>\n",
              "    </tr>\n",
              "  </thead>\n",
              "  <tbody>\n",
              "    <tr>\n",
              "      <th>0</th>\n",
              "      <td>1</td>\n",
              "      <td>NaN</td>\n",
              "      <td>37.8</td>\n",
              "      <td>NaN</td>\n",
              "      <td>22.1</td>\n",
              "      <td>High</td>\n",
              "    </tr>\n",
              "    <tr>\n",
              "      <th>1</th>\n",
              "      <td>2</td>\n",
              "      <td>44.5</td>\n",
              "      <td>39.3</td>\n",
              "      <td>45.1</td>\n",
              "      <td>10.4</td>\n",
              "      <td>Medium</td>\n",
              "    </tr>\n",
              "    <tr>\n",
              "      <th>2</th>\n",
              "      <td>3</td>\n",
              "      <td>17.2</td>\n",
              "      <td>45.9</td>\n",
              "      <td>69.3</td>\n",
              "      <td>9.3</td>\n",
              "      <td>Medium</td>\n",
              "    </tr>\n",
              "    <tr>\n",
              "      <th>3</th>\n",
              "      <td>4</td>\n",
              "      <td>151.5</td>\n",
              "      <td>41.3</td>\n",
              "      <td>58.5</td>\n",
              "      <td>18.5</td>\n",
              "      <td>High</td>\n",
              "    </tr>\n",
              "    <tr>\n",
              "      <th>4</th>\n",
              "      <td>5</td>\n",
              "      <td>180.8</td>\n",
              "      <td>10.8</td>\n",
              "      <td>58.4</td>\n",
              "      <td>12.9</td>\n",
              "      <td>Medium</td>\n",
              "    </tr>\n",
              "    <tr>\n",
              "      <th>...</th>\n",
              "      <td>...</td>\n",
              "      <td>...</td>\n",
              "      <td>...</td>\n",
              "      <td>...</td>\n",
              "      <td>...</td>\n",
              "      <td>...</td>\n",
              "    </tr>\n",
              "    <tr>\n",
              "      <th>195</th>\n",
              "      <td>196</td>\n",
              "      <td>38.2</td>\n",
              "      <td>3.7</td>\n",
              "      <td>13.8</td>\n",
              "      <td>7.6</td>\n",
              "      <td>Medium</td>\n",
              "    </tr>\n",
              "    <tr>\n",
              "      <th>196</th>\n",
              "      <td>197</td>\n",
              "      <td>94.2</td>\n",
              "      <td>4.9</td>\n",
              "      <td>8.1</td>\n",
              "      <td>9.7</td>\n",
              "      <td>Medium</td>\n",
              "    </tr>\n",
              "    <tr>\n",
              "      <th>197</th>\n",
              "      <td>198</td>\n",
              "      <td>177.0</td>\n",
              "      <td>9.3</td>\n",
              "      <td>6.4</td>\n",
              "      <td>12.8</td>\n",
              "      <td>Medium</td>\n",
              "    </tr>\n",
              "    <tr>\n",
              "      <th>198</th>\n",
              "      <td>199</td>\n",
              "      <td>NaN</td>\n",
              "      <td>42.0</td>\n",
              "      <td>66.2</td>\n",
              "      <td>25.5</td>\n",
              "      <td>High</td>\n",
              "    </tr>\n",
              "    <tr>\n",
              "      <th>199</th>\n",
              "      <td>200</td>\n",
              "      <td>232.1</td>\n",
              "      <td>8.6</td>\n",
              "      <td>8.7</td>\n",
              "      <td>13.4</td>\n",
              "      <td>Medium</td>\n",
              "    </tr>\n",
              "  </tbody>\n",
              "</table>\n",
              "<p>200 rows × 6 columns</p>\n",
              "</div>"
            ],
            "text/plain": [
              "     Unnamed: 0     TV  Radio  Newspaper  Sales Sales Type\n",
              "0             1    NaN   37.8        NaN   22.1       High\n",
              "1             2   44.5   39.3       45.1   10.4     Medium\n",
              "2             3   17.2   45.9       69.3    9.3     Medium\n",
              "3             4  151.5   41.3       58.5   18.5       High\n",
              "4             5  180.8   10.8       58.4   12.9     Medium\n",
              "..          ...    ...    ...        ...    ...        ...\n",
              "195         196   38.2    3.7       13.8    7.6     Medium\n",
              "196         197   94.2    4.9        8.1    9.7     Medium\n",
              "197         198  177.0    9.3        6.4   12.8     Medium\n",
              "198         199    NaN   42.0       66.2   25.5       High\n",
              "199         200  232.1    8.6        8.7   13.4     Medium\n",
              "\n",
              "[200 rows x 6 columns]"
            ]
          },
          "metadata": {
            "tags": []
          },
          "execution_count": 9
        }
      ]
    },
    {
      "cell_type": "code",
      "metadata": {
        "id": "ooOehwUOnN6W",
        "colab_type": "code",
        "colab": {
          "base_uri": "https://localhost:8080/",
          "height": 419
        },
        "outputId": "9e485e7d-6914-4c83-ea63-e82ced811f5a"
      },
      "source": [
        "data.fillna(0)"
      ],
      "execution_count": 10,
      "outputs": [
        {
          "output_type": "execute_result",
          "data": {
            "text/html": [
              "<div>\n",
              "<style scoped>\n",
              "    .dataframe tbody tr th:only-of-type {\n",
              "        vertical-align: middle;\n",
              "    }\n",
              "\n",
              "    .dataframe tbody tr th {\n",
              "        vertical-align: top;\n",
              "    }\n",
              "\n",
              "    .dataframe thead th {\n",
              "        text-align: right;\n",
              "    }\n",
              "</style>\n",
              "<table border=\"1\" class=\"dataframe\">\n",
              "  <thead>\n",
              "    <tr style=\"text-align: right;\">\n",
              "      <th></th>\n",
              "      <th>Unnamed: 0</th>\n",
              "      <th>TV</th>\n",
              "      <th>Radio</th>\n",
              "      <th>Newspaper</th>\n",
              "      <th>Sales</th>\n",
              "      <th>Sales Type</th>\n",
              "    </tr>\n",
              "  </thead>\n",
              "  <tbody>\n",
              "    <tr>\n",
              "      <th>0</th>\n",
              "      <td>1</td>\n",
              "      <td>0.0</td>\n",
              "      <td>37.8</td>\n",
              "      <td>0.0</td>\n",
              "      <td>22.1</td>\n",
              "      <td>High</td>\n",
              "    </tr>\n",
              "    <tr>\n",
              "      <th>1</th>\n",
              "      <td>2</td>\n",
              "      <td>44.5</td>\n",
              "      <td>39.3</td>\n",
              "      <td>45.1</td>\n",
              "      <td>10.4</td>\n",
              "      <td>Medium</td>\n",
              "    </tr>\n",
              "    <tr>\n",
              "      <th>2</th>\n",
              "      <td>3</td>\n",
              "      <td>17.2</td>\n",
              "      <td>45.9</td>\n",
              "      <td>69.3</td>\n",
              "      <td>9.3</td>\n",
              "      <td>Medium</td>\n",
              "    </tr>\n",
              "    <tr>\n",
              "      <th>3</th>\n",
              "      <td>4</td>\n",
              "      <td>151.5</td>\n",
              "      <td>41.3</td>\n",
              "      <td>58.5</td>\n",
              "      <td>18.5</td>\n",
              "      <td>High</td>\n",
              "    </tr>\n",
              "    <tr>\n",
              "      <th>4</th>\n",
              "      <td>5</td>\n",
              "      <td>180.8</td>\n",
              "      <td>10.8</td>\n",
              "      <td>58.4</td>\n",
              "      <td>12.9</td>\n",
              "      <td>Medium</td>\n",
              "    </tr>\n",
              "    <tr>\n",
              "      <th>...</th>\n",
              "      <td>...</td>\n",
              "      <td>...</td>\n",
              "      <td>...</td>\n",
              "      <td>...</td>\n",
              "      <td>...</td>\n",
              "      <td>...</td>\n",
              "    </tr>\n",
              "    <tr>\n",
              "      <th>195</th>\n",
              "      <td>196</td>\n",
              "      <td>38.2</td>\n",
              "      <td>3.7</td>\n",
              "      <td>13.8</td>\n",
              "      <td>7.6</td>\n",
              "      <td>Medium</td>\n",
              "    </tr>\n",
              "    <tr>\n",
              "      <th>196</th>\n",
              "      <td>197</td>\n",
              "      <td>94.2</td>\n",
              "      <td>4.9</td>\n",
              "      <td>8.1</td>\n",
              "      <td>9.7</td>\n",
              "      <td>Medium</td>\n",
              "    </tr>\n",
              "    <tr>\n",
              "      <th>197</th>\n",
              "      <td>198</td>\n",
              "      <td>177.0</td>\n",
              "      <td>9.3</td>\n",
              "      <td>6.4</td>\n",
              "      <td>12.8</td>\n",
              "      <td>Medium</td>\n",
              "    </tr>\n",
              "    <tr>\n",
              "      <th>198</th>\n",
              "      <td>199</td>\n",
              "      <td>0.0</td>\n",
              "      <td>42.0</td>\n",
              "      <td>66.2</td>\n",
              "      <td>25.5</td>\n",
              "      <td>High</td>\n",
              "    </tr>\n",
              "    <tr>\n",
              "      <th>199</th>\n",
              "      <td>200</td>\n",
              "      <td>232.1</td>\n",
              "      <td>8.6</td>\n",
              "      <td>8.7</td>\n",
              "      <td>13.4</td>\n",
              "      <td>Medium</td>\n",
              "    </tr>\n",
              "  </tbody>\n",
              "</table>\n",
              "<p>200 rows × 6 columns</p>\n",
              "</div>"
            ],
            "text/plain": [
              "     Unnamed: 0     TV  Radio  Newspaper  Sales Sales Type\n",
              "0             1    0.0   37.8        0.0   22.1       High\n",
              "1             2   44.5   39.3       45.1   10.4     Medium\n",
              "2             3   17.2   45.9       69.3    9.3     Medium\n",
              "3             4  151.5   41.3       58.5   18.5       High\n",
              "4             5  180.8   10.8       58.4   12.9     Medium\n",
              "..          ...    ...    ...        ...    ...        ...\n",
              "195         196   38.2    3.7       13.8    7.6     Medium\n",
              "196         197   94.2    4.9        8.1    9.7     Medium\n",
              "197         198  177.0    9.3        6.4   12.8     Medium\n",
              "198         199    0.0   42.0       66.2   25.5       High\n",
              "199         200  232.1    8.6        8.7   13.4     Medium\n",
              "\n",
              "[200 rows x 6 columns]"
            ]
          },
          "metadata": {
            "tags": []
          },
          "execution_count": 10
        }
      ]
    },
    {
      "cell_type": "code",
      "metadata": {
        "id": "J_dizZBKhmMI",
        "colab_type": "code",
        "colab": {
          "base_uri": "https://localhost:8080/",
          "height": 419
        },
        "outputId": "28a7d4d4-4dfe-4d5f-e3ba-8f632f174ab6"
      },
      "source": [
        "data = data.fillna(data.mean())\n",
        "data\n"
      ],
      "execution_count": 11,
      "outputs": [
        {
          "output_type": "execute_result",
          "data": {
            "text/html": [
              "<div>\n",
              "<style scoped>\n",
              "    .dataframe tbody tr th:only-of-type {\n",
              "        vertical-align: middle;\n",
              "    }\n",
              "\n",
              "    .dataframe tbody tr th {\n",
              "        vertical-align: top;\n",
              "    }\n",
              "\n",
              "    .dataframe thead th {\n",
              "        text-align: right;\n",
              "    }\n",
              "</style>\n",
              "<table border=\"1\" class=\"dataframe\">\n",
              "  <thead>\n",
              "    <tr style=\"text-align: right;\">\n",
              "      <th></th>\n",
              "      <th>Unnamed: 0</th>\n",
              "      <th>TV</th>\n",
              "      <th>Radio</th>\n",
              "      <th>Newspaper</th>\n",
              "      <th>Sales</th>\n",
              "      <th>Sales Type</th>\n",
              "    </tr>\n",
              "  </thead>\n",
              "  <tbody>\n",
              "    <tr>\n",
              "      <th>0</th>\n",
              "      <td>1</td>\n",
              "      <td>148.757831</td>\n",
              "      <td>37.8</td>\n",
              "      <td>30.492222</td>\n",
              "      <td>22.1</td>\n",
              "      <td>High</td>\n",
              "    </tr>\n",
              "    <tr>\n",
              "      <th>1</th>\n",
              "      <td>2</td>\n",
              "      <td>44.500000</td>\n",
              "      <td>39.3</td>\n",
              "      <td>45.100000</td>\n",
              "      <td>10.4</td>\n",
              "      <td>Medium</td>\n",
              "    </tr>\n",
              "    <tr>\n",
              "      <th>2</th>\n",
              "      <td>3</td>\n",
              "      <td>17.200000</td>\n",
              "      <td>45.9</td>\n",
              "      <td>69.300000</td>\n",
              "      <td>9.3</td>\n",
              "      <td>Medium</td>\n",
              "    </tr>\n",
              "    <tr>\n",
              "      <th>3</th>\n",
              "      <td>4</td>\n",
              "      <td>151.500000</td>\n",
              "      <td>41.3</td>\n",
              "      <td>58.500000</td>\n",
              "      <td>18.5</td>\n",
              "      <td>High</td>\n",
              "    </tr>\n",
              "    <tr>\n",
              "      <th>4</th>\n",
              "      <td>5</td>\n",
              "      <td>180.800000</td>\n",
              "      <td>10.8</td>\n",
              "      <td>58.400000</td>\n",
              "      <td>12.9</td>\n",
              "      <td>Medium</td>\n",
              "    </tr>\n",
              "    <tr>\n",
              "      <th>...</th>\n",
              "      <td>...</td>\n",
              "      <td>...</td>\n",
              "      <td>...</td>\n",
              "      <td>...</td>\n",
              "      <td>...</td>\n",
              "      <td>...</td>\n",
              "    </tr>\n",
              "    <tr>\n",
              "      <th>195</th>\n",
              "      <td>196</td>\n",
              "      <td>38.200000</td>\n",
              "      <td>3.7</td>\n",
              "      <td>13.800000</td>\n",
              "      <td>7.6</td>\n",
              "      <td>Medium</td>\n",
              "    </tr>\n",
              "    <tr>\n",
              "      <th>196</th>\n",
              "      <td>197</td>\n",
              "      <td>94.200000</td>\n",
              "      <td>4.9</td>\n",
              "      <td>8.100000</td>\n",
              "      <td>9.7</td>\n",
              "      <td>Medium</td>\n",
              "    </tr>\n",
              "    <tr>\n",
              "      <th>197</th>\n",
              "      <td>198</td>\n",
              "      <td>177.000000</td>\n",
              "      <td>9.3</td>\n",
              "      <td>6.400000</td>\n",
              "      <td>12.8</td>\n",
              "      <td>Medium</td>\n",
              "    </tr>\n",
              "    <tr>\n",
              "      <th>198</th>\n",
              "      <td>199</td>\n",
              "      <td>148.757831</td>\n",
              "      <td>42.0</td>\n",
              "      <td>66.200000</td>\n",
              "      <td>25.5</td>\n",
              "      <td>High</td>\n",
              "    </tr>\n",
              "    <tr>\n",
              "      <th>199</th>\n",
              "      <td>200</td>\n",
              "      <td>232.100000</td>\n",
              "      <td>8.6</td>\n",
              "      <td>8.700000</td>\n",
              "      <td>13.4</td>\n",
              "      <td>Medium</td>\n",
              "    </tr>\n",
              "  </tbody>\n",
              "</table>\n",
              "<p>200 rows × 6 columns</p>\n",
              "</div>"
            ],
            "text/plain": [
              "     Unnamed: 0          TV  Radio  Newspaper  Sales Sales Type\n",
              "0             1  148.757831   37.8  30.492222   22.1       High\n",
              "1             2   44.500000   39.3  45.100000   10.4     Medium\n",
              "2             3   17.200000   45.9  69.300000    9.3     Medium\n",
              "3             4  151.500000   41.3  58.500000   18.5       High\n",
              "4             5  180.800000   10.8  58.400000   12.9     Medium\n",
              "..          ...         ...    ...        ...    ...        ...\n",
              "195         196   38.200000    3.7  13.800000    7.6     Medium\n",
              "196         197   94.200000    4.9   8.100000    9.7     Medium\n",
              "197         198  177.000000    9.3   6.400000   12.8     Medium\n",
              "198         199  148.757831   42.0  66.200000   25.5       High\n",
              "199         200  232.100000    8.6   8.700000   13.4     Medium\n",
              "\n",
              "[200 rows x 6 columns]"
            ]
          },
          "metadata": {
            "tags": []
          },
          "execution_count": 11
        }
      ]
    },
    {
      "cell_type": "code",
      "metadata": {
        "id": "aDss6bETkfMy",
        "colab_type": "code",
        "colab": {}
      },
      "source": [
        "X = data.iloc[:,:-2].values\n",
        "y = data.iloc[:,-2].values"
      ],
      "execution_count": 12,
      "outputs": []
    },
    {
      "cell_type": "code",
      "metadata": {
        "id": "jCGf4Awxj9kM",
        "colab_type": "code",
        "colab": {
          "base_uri": "https://localhost:8080/",
          "height": 1000
        },
        "outputId": "a3ae743a-5ed6-42a0-a014-8dbd6b4f3e32"
      },
      "source": [
        "from sklearn.preprocessing import MinMaxScaler\n",
        "scaled_X = MinMaxScaler()\n",
        "X = scaled_X.fit_transform(X)\n",
        "X"
      ],
      "execution_count": 13,
      "outputs": [
        {
          "output_type": "execute_result",
          "data": {
            "text/plain": [
              "array([[0.        , 0.50070285, 0.76209677, 0.26554285],\n",
              "       [0.00502513, 0.1481231 , 0.79233871, 0.39401935],\n",
              "       [0.01005025, 0.0557998 , 0.92540323, 0.60686016],\n",
              "       [0.01507538, 0.50997633, 0.83266129, 0.51187335],\n",
              "       [0.0201005 , 0.60906324, 0.21774194, 0.51099384],\n",
              "       [0.02512563, 0.02705445, 0.9858871 , 0.65699208],\n",
              "       [0.03015075, 0.50070285, 0.66129032, 0.20404573],\n",
              "       [0.03517588, 0.4041258 , 0.39516129, 0.09938434],\n",
              "       [0.04020101, 0.02671627, 0.04233871, 0.00615655],\n",
              "       [0.04522613, 0.67331755, 0.05241935, 0.18381706],\n",
              "       [0.05025126, 0.2211701 , 0.11693548, 0.26554285],\n",
              "       [0.05527638, 0.72370646, 0.48387097, 0.03254178],\n",
              "       [0.06030151, 0.50070285, 0.70766129, 0.5769569 ],\n",
              "       [0.06532663, 0.32735881, 0.15322581, 0.06068602],\n",
              "       [0.07035176, 0.68785932, 0.66330645, 0.40193492],\n",
              "       [0.07537688, 0.65843761, 0.96169355, 0.46262093],\n",
              "       [0.08040201, 0.22691917, 0.73790323, 1.        ],\n",
              "       [0.08542714, 0.94927291, 0.7983871 , 0.48812665],\n",
              "       [0.09045226, 0.50070285, 0.41330645, 0.15831135],\n",
              "       [0.09547739, 0.49577274, 0.48185484, 0.16534741],\n",
              "       [0.10050251, 0.73621914, 0.55846774, 0.26554285],\n",
              "       [0.10552764, 0.80047345, 0.10282258, 0.20404573],\n",
              "       [0.11055276, 0.04227257, 0.32056452, 0.43359719],\n",
              "       [0.11557789, 0.76969902, 0.34072581, 0.22779244],\n",
              "       [0.12060302, 0.50070285, 0.25403226, 0.15831135],\n",
              "       [0.12562814, 0.8867095 , 0.07056452, 0.16886544],\n",
              "       [0.13065327, 0.4808928 , 0.59072581, 0.10817942],\n",
              "       [0.13567839, 0.80960433, 0.33669355, 0.19876869],\n",
              "       [0.14070352, 0.83902604, 0.54637097, 0.19876869],\n",
              "       [0.14572864, 0.23638823, 0.32258065, 0.35620053],\n",
              "       [0.15075377, 0.50070285, 0.57056452, 0.26554285],\n",
              "       [0.15577889, 0.37943862, 0.35080645, 0.33685136],\n",
              "       [0.16080402, 0.32634427, 0.03024194, 0.26121372],\n",
              "       [0.16582915, 0.89584038, 0.40322581, 0.        ],\n",
              "       [0.17085427, 0.32127156, 0.02822581, 0.06244503],\n",
              "       [0.1758794 , 0.98072371, 0.08266129, 0.07211961],\n",
              "       [0.18090452, 0.50070285, 0.88306452, 0.04133685],\n",
              "       [0.18592965, 0.25025364, 0.99596774, 0.39929639],\n",
              "       [0.19095477, 0.14338857, 0.53830645, 0.3060686 ],\n",
              "       [0.1959799 , 0.76868448, 0.76008065, 0.27880387],\n",
              "       [0.20100503, 0.68244843, 0.44959677, 0.26554285],\n",
              "       [0.20603015, 0.59621238, 0.6733871 , 0.33773087],\n",
              "       [0.21105528, 0.50070285, 0.55846774, 0.01319261],\n",
              "       [0.2160804 , 0.69732837, 0.16935484, 0.22955145],\n",
              "       [0.22110553, 0.08251606, 0.51814516, 0.37818821],\n",
              "       [0.22613065, 0.58978695, 0.45362903, 0.27440633],\n",
              "       [0.23115578, 0.30098072, 0.19959677, 0.31134565],\n",
              "       [0.2361809 , 0.80892797, 0.83669355, 0.16007036],\n",
              "       [0.24120603, 0.50070285, 0.31854839, 0.43623571],\n",
              "       [0.24623116, 0.22387555, 0.2358871 , 0.32102023],\n",
              "       [0.25125628, 0.67331755, 0.0625    , 0.26554285],\n",
              "       [0.25628141, 0.33716605, 0.19354839, 0.02902375],\n",
              "       [0.26130653, 0.72945553, 0.84072581, 0.34564644],\n",
              "       [0.26633166, 0.61515049, 0.93145161, 0.51363237],\n",
              "       [0.27135678, 0.50070285, 0.58064516, 0.13720317],\n",
              "       [0.27638191, 0.67027393, 0.99596774, 0.52506596],\n",
              "       [0.28140704, 0.02231992, 0.56653226, 0.36147757],\n",
              "       [0.28643216, 0.4582347 , 0.38709677, 0.14335972],\n",
              "       [0.29145729, 0.71051742, 1.        , 0.3289358 ],\n",
              "       [0.29648241, 0.71017924, 0.59475806, 0.07915567],\n",
              "       [0.30150754, 0.50070285, 0.04032258, 0.26554285],\n",
              "       [0.30653266, 0.88129861, 0.8608871 , 0.47845207],\n",
              "       [0.31155779, 0.80689888, 0.3125    , 0.23746702],\n",
              "       [0.31658291, 0.3449442 , 0.59677419, 0.07124011],\n",
              "       [0.32160804, 0.44098749, 0.86290323, 0.25153914],\n",
              "       [0.32663317, 0.23097734, 0.1875    , 0.00527704],\n",
              "       [0.33165829, 0.50070285, 0.49596774, 0.01671064],\n",
              "       [0.33668342, 0.4687183 , 0.29233871, 0.08707124],\n",
              "       [0.34170854, 0.80047345, 0.55443548, 0.0941073 ],\n",
              "       [0.34673367, 0.73080825, 0.88508065, 0.23658751],\n",
              "       [0.35175879, 0.67095029, 0.61693548, 0.26554285],\n",
              "       [0.35678392, 0.36895502, 0.28830645, 0.27616535],\n",
              "       [0.36180905, 0.50070285, 0.66532258, 0.16710642],\n",
              "       [0.36683417, 0.43523842, 0.11491935, 0.27264732],\n",
              "       [0.3718593 , 0.71931011, 0.49596774, 0.11257696],\n",
              "       [0.37688442, 0.05478526, 0.88104839, 0.78364116],\n",
              "       [0.38190955, 0.0906324 , 0.03225806, 0.17941953],\n",
              "       [0.38693467, 0.40514034, 0.57459677, 0.12225154],\n",
              "       [0.3919598 , 0.50070285, 0.60282258, 0.08003518],\n",
              "       [0.39698492, 0.38992222, 0.15524194, 0.2005277 ],\n",
              "       [0.40201005, 0.25600271, 0.53830645, 0.26554285],\n",
              "       [0.40703518, 0.80858979, 0.08266129, 0.32189974],\n",
              "       [0.4120603 , 0.25228272, 0.40927419, 0.28320141],\n",
              "       [0.41708543, 0.22894826, 0.89717742, 0.31046614],\n",
              "       [0.42211055, 0.50070285, 0.86693548, 0.294635  ],\n",
              "       [0.42713568, 0.65099763, 0.37096774, 0.57519789],\n",
              "       [0.4321608 , 0.25566452, 0.55443548, 0.13808267],\n",
              "       [0.43718593, 0.37199865, 0.81854839, 0.5532102 ],\n",
              "       [0.44221106, 0.2962462 , 0.5141129 , 0.64291996],\n",
              "       [0.44723618, 0.36895502, 0.96370968, 0.44942832],\n",
              "       [0.45226131, 0.50070285, 0.09879032, 0.26554285],\n",
              "       [0.45728643, 0.09435238, 0.03024194, 0.28759894],\n",
              "       [0.46231156, 0.73385188, 0.67540323, 0.51627089],\n",
              "       [0.46733668, 0.84612783, 0.7358871 , 0.63324538],\n",
              "       [0.47236181, 0.36083869, 0.28225806, 0.09322779],\n",
              "       [0.47738693, 0.54988164, 0.63709677, 0.46262093],\n",
              "       [0.48241206, 0.50070285, 0.07056452, 0.04925242],\n",
              "       [0.48743719, 0.62292864, 0.4233871 , 0.19085312],\n",
              "       [0.49246231, 0.9773419 , 0.85282258, 0.44766931],\n",
              "       [0.49748744, 0.45485289, 0.84072581, 0.40105541],\n",
              "       [0.50251256, 0.74974636, 0.08669355, 0.26554285],\n",
              "       [0.50753769, 1.        , 0.73185484, 0.88478452],\n",
              "       [0.51256281, 0.50070285, 0.20362903, 0.18557608],\n",
              "       [0.51758794, 0.63307406, 0.34677419, 0.15479332],\n",
              "       [0.52261307, 0.8031789 , 0.69153226, 0.04397537],\n",
              "       [0.52763819, 0.46398377, 0.93548387, 0.51627089],\n",
              "       [0.53266332, 0.08217788, 0.22177419, 0.2585752 ],\n",
              "       [0.53768844, 0.30334799, 0.00604839, 0.20140721],\n",
              "       [0.54271357, 0.50070285, 0.00806452, 0.22251539],\n",
              "       [0.54773869, 0.86134596, 0.54233871, 0.04573439],\n",
              "       [0.55276382, 0.7612445 , 0.16532258, 0.26554285],\n",
              "       [0.55778894, 0.81501522, 0.76612903, 0.20140721],\n",
              "       [0.56281407, 0.59181603, 0.31048387, 0.01846966],\n",
              "       [0.5678392 , 0.70645925, 0.41532258, 0.09146878],\n",
              "       [0.57286432, 0.50070285, 0.94354839, 0.30079156],\n",
              "       [0.57788945, 0.25160636, 0.70564516, 0.46086192],\n",
              "       [0.58291457, 0.46838011, 0.28830645, 0.22251539],\n",
              "       [0.5879397 , 0.25600271, 0.01612903, 0.12752858],\n",
              "       [0.59296482, 0.42272574, 0.74395161, 0.6939314 ],\n",
              "       [0.59798995, 0.06323977, 0.32258065, 0.19349164],\n",
              "       [0.60301508, 0.50070285, 0.54032258, 0.26554285],\n",
              "       [0.6080402 , 0.06121069, 0.4375    , 0.44063325],\n",
              "       [0.61306533, 0.75515725, 0.0483871 , 0.13456464],\n",
              "       [0.61809045, 0.41393304, 0.69758065, 0.1064204 ],\n",
              "       [0.62311558, 0.77375719, 0.65120968, 0.64995602],\n",
              "       [0.6281407 , 0.29252621, 0.23790323, 0.22515391],\n",
              "       [0.63316583, 0.50070285, 0.78427419, 0.44239226],\n",
              "       [0.63819095, 0.26885357, 0.        , 0.07827617],\n",
              "       [0.64321608, 0.74264457, 0.98790323, 0.02550572],\n",
              "       [0.64824121, 0.19918837, 0.24193548, 0.3764292 ],\n",
              "       [0.65326633, 0.        , 0.7983871 , 0.26554285],\n",
              "       [0.65829146, 0.89448766, 0.05846774, 0.37554969],\n",
              "       [0.66331658, 0.50070285, 0.5483871 , 0.01583113],\n",
              "       [0.66834171, 0.74095367, 0.67540323, 0.39401935],\n",
              "       [0.67336683, 0.12242137, 0.77822581, 0.57431838],\n",
              "       [0.67839196, 0.16097396, 0.94758065, 0.07211961],\n",
              "       [0.68341709, 0.08420697, 0.78629032, 0.07915567],\n",
              "       [0.68844221, 0.92323301, 0.58266129, 0.52242744],\n",
              "       [0.69346734, 0.50070285, 0.52217742, 0.17766051],\n",
              "       [0.69849246, 0.62292864, 0.88508065, 0.0123131 ],\n",
              "       [0.70351759, 0.24585729, 0.34274194, 0.26554285],\n",
              "       [0.70854271, 0.65268854, 0.71370968, 0.66226913],\n",
              "       [0.71356784, 0.74332093, 0.66935484, 0.33069481],\n",
              "       [0.71859296, 0.35136963, 0.11491935, 0.29991205],\n",
              "       [0.72361809, 0.50070285, 0.2983871 , 0.33948989],\n",
              "       [0.72864322, 0.4721001 , 0.03830645, 0.07651715],\n",
              "       [0.73366834, 0.80960433, 0.14717742, 0.07387863],\n",
              "       [0.73869347, 0.82008793, 0.98790323, 0.38698329],\n",
              "       [0.74371859, 0.12614136, 0.8125    , 0.10202287],\n",
              "       [0.74874372, 0.14879946, 0.52016129, 0.17854002],\n",
              "       [0.75376884, 0.50070285, 0.28024194, 0.26554285],\n",
              "       [0.75879397, 0.40683125, 0.16935484, 0.42568162],\n",
              "       [0.7638191 , 0.66587758, 0.46975806, 0.12225154],\n",
              "       [0.76884422, 0.57693608, 0.80040323, 0.3289358 ],\n",
              "       [0.77386935, 0.63273588, 0.42540323, 0.08091469],\n",
              "       [0.77889447, 0.01149814, 0.23387097, 0.0474934 ],\n",
              "       [0.7839196 , 0.50070285, 0.87701613, 0.44151275],\n",
              "       [0.78894472, 0.50422726, 0.02620968, 0.21108179],\n",
              "       [0.79396985, 0.03719986, 0.74395161, 0.39489886],\n",
              "       [0.79899497, 0.44301657, 0.37096774, 0.30167106],\n",
              "       [0.8040201 , 0.58099425, 0.36491935, 0.26554285],\n",
              "       [0.80904523, 0.2874535 , 0.72177419, 0.43095866],\n",
              "       [0.81407035, 0.50070285, 0.36491935, 0.22251539],\n",
              "       [0.81909548, 0.550558  , 0.74193548, 0.06244503],\n",
              "       [0.8241206 , 0.39398039, 0.29637097, 0.04485488],\n",
              "       [0.82914573, 0.79066622, 0.06854839, 0.74318382],\n",
              "       [0.83417085, 0.05816706, 0.75806452, 0.18733509],\n",
              "       [0.83919598, 0.69699019, 0.10483871, 0.16798593],\n",
              "       [0.84422111, 0.50070285, 0.47580645, 0.50395778],\n",
              "       [0.84924623, 0.95908015, 0.21370968, 0.05364996],\n",
              "       [0.85427136, 0.16672303, 0.23387097, 0.26554285],\n",
              "       [0.85929648, 0.5539398 , 0.42137097, 0.41424802],\n",
              "       [0.86432161, 0.06391613, 0.40524194, 0.14687775],\n",
              "       [0.86934673, 0.56712885, 0.14314516, 0.10993843],\n",
              "       [0.87437186, 0.50070285, 0.06854839, 0.11257696],\n",
              "       [0.87939698, 0.93405479, 0.9858871 , 0.3649956 ],\n",
              "       [0.88442211, 0.83767332, 0.60887097, 0.1759015 ],\n",
              "       [0.88944724, 0.5732161 , 0.15725806, 0.30694811],\n",
              "       [0.89447236, 0.93337842, 0.04637097, 0.20580475],\n",
              "       [0.89949749, 0.55765979, 0.2016129 , 0.15215479],\n",
              "       [0.90452261, 0.50070285, 0.05241935, 0.26554285],\n",
              "       [0.90954774, 0.73655732, 0.10887097, 0.23834653],\n",
              "       [0.91457286, 0.18769023, 0.11491935, 0.2585752 ],\n",
              "       [0.91959799, 0.97024011, 0.86693548, 0.62884785],\n",
              "       [0.92462312, 0.85593507, 0.42943548, 0.26121372],\n",
              "       [0.92964824, 0.69090294, 0.90927419, 0.16974494],\n",
              "       [0.93467337, 0.50070285, 0.04233871, 0.23131047],\n",
              "       [0.93969849, 0.64389584, 0.57862903, 0.15743184],\n",
              "       [0.94472362, 0.96482922, 0.28024194, 0.02990325],\n",
              "       [0.94974874, 0.06087251, 0.24395161, 0.20316623],\n",
              "       [0.95477387, 0.13121407, 0.82862903, 0.26554285],\n",
              "       [0.95979899, 0.25295908, 0.21774194, 0.05013193],\n",
              "       [0.96482412, 0.50070285, 0.08266129, 0.27528584],\n",
              "       [0.96984925, 0.56171796, 0.84677419, 0.02902375],\n",
              "       [0.97487437, 0.50388908, 0.71774194, 0.05013193],\n",
              "       [0.9798995 , 0.12681772, 0.07459677, 0.11873351],\n",
              "       [0.98492462, 0.31619885, 0.09879032, 0.06860158],\n",
              "       [0.98994975, 0.59621238, 0.1875    , 0.05364996],\n",
              "       [0.99497487, 0.50070285, 0.84677419, 0.57959543],\n",
              "       [1.        , 0.78254988, 0.1733871 , 0.07387863]])"
            ]
          },
          "metadata": {
            "tags": []
          },
          "execution_count": 13
        }
      ]
    },
    {
      "cell_type": "code",
      "metadata": {
        "id": "qwt4GPjkkPut",
        "colab_type": "code",
        "colab": {}
      },
      "source": [
        "from sklearn.model_selection import train_test_split\n",
        "X_train, X_test, y_train, y_test = train_test_split(X, y, test_size = 0.4, random_state=42)\n"
      ],
      "execution_count": 14,
      "outputs": []
    },
    {
      "cell_type": "code",
      "metadata": {
        "id": "N3udCjxedQBD",
        "colab_type": "code",
        "colab": {
          "base_uri": "https://localhost:8080/",
          "height": 34
        },
        "outputId": "781d6c6e-c1dc-47a6-d1d4-ce58bb5a9231"
      },
      "source": [
        "from sklearn.linear_model import LinearRegression\n",
        "from sklearn.metrics import mean_squared_error\n",
        "from sklearn.model_selection import learning_curve\n",
        "model = LinearRegression()\n",
        "model.fit(X_train, y_train)"
      ],
      "execution_count": 38,
      "outputs": [
        {
          "output_type": "execute_result",
          "data": {
            "text/plain": [
              "LinearRegression(copy_X=True, fit_intercept=True, n_jobs=None, normalize=False)"
            ]
          },
          "metadata": {
            "tags": []
          },
          "execution_count": 38
        }
      ]
    },
    {
      "cell_type": "code",
      "metadata": {
        "id": "P-AwDcYAeYi3",
        "colab_type": "code",
        "colab": {
          "base_uri": "https://localhost:8080/",
          "height": 51
        },
        "outputId": "591becb7-a5be-431f-b18a-8c2b25cb43b1"
      },
      "source": [
        "y_pred = model.predict(X_test)\n",
        "mse = mean_squared_error(y_test,y_pred)\n",
        "print(f\"\\nMSE: {mse}\")\n"
      ],
      "execution_count": 23,
      "outputs": [
        {
          "output_type": "stream",
          "text": [
            "\n",
            "MSE: 9.332077441987703\n"
          ],
          "name": "stdout"
        }
      ]
    },
    {
      "cell_type": "code",
      "metadata": {
        "id": "tQ9OfVOofi2I",
        "colab_type": "code",
        "colab": {
          "base_uri": "https://localhost:8080/",
          "height": 34
        },
        "outputId": "7c756923-e3d5-419d-e97c-2d12c17fc3c6"
      },
      "source": [
        "from sklearn.metrics import r2_score\n",
        "r2_score(y_test, y_pred)"
      ],
      "execution_count": 20,
      "outputs": [
        {
          "output_type": "execute_result",
          "data": {
            "text/plain": [
              "0.6308042454444418"
            ]
          },
          "metadata": {
            "tags": []
          },
          "execution_count": 20
        }
      ]
    },
    {
      "cell_type": "code",
      "metadata": {
        "id": "m0HHuCjsi47K",
        "colab_type": "code",
        "colab": {}
      },
      "source": [
        "train_sizes, train_scores, validation_scores=learning_curve( estimator=LinearRegression() , X=X_train , y=y_train)"
      ],
      "execution_count": 39,
      "outputs": []
    },
    {
      "cell_type": "code",
      "metadata": {
        "id": "p73mPHo-f-Ao",
        "colab_type": "code",
        "colab": {}
      },
      "source": [
        "train_scores_mean = -train_scores.mean(axis = 1)\n",
        "validation_scores_mean = -validation_scores.mean(axis=1)"
      ],
      "execution_count": 40,
      "outputs": []
    },
    {
      "cell_type": "code",
      "metadata": {
        "id": "0D9bAV9QgtG9",
        "colab_type": "code",
        "colab": {
          "base_uri": "https://localhost:8080/",
          "height": 282
        },
        "outputId": "37f62346-b39d-44a2-ef87-5162b84e2eb6"
      },
      "source": [
        "plt.plot(train_sizes, train_scores_mean, c='r', label='Actual scores')\n",
        "\n",
        "plt.plot()"
      ],
      "execution_count": 42,
      "outputs": [
        {
          "output_type": "execute_result",
          "data": {
            "text/plain": [
              "[]"
            ]
          },
          "metadata": {
            "tags": []
          },
          "execution_count": 42
        },
        {
          "output_type": "display_data",
          "data": {
            "image/png": "[encoded data removed]",
            "text/plain": [
              "<Figure size 432x288 with 1 Axes>"
            ]
          },
          "metadata": {
            "tags": [],
            "needs_background": "light"
          }
        }
      ]
    },
    {
      "cell_type": "code",
      "metadata": {
        "id": "QVqs50Hti8Nr",
        "colab_type": "code",
        "colab": {
          "base_uri": "https://localhost:8080/",
          "height": 34
        },
        "outputId": "a56cf35f-559f-44f5-ff6c-95bbbb43e5d0"
      },
      "source": [
        ""
      ],
      "execution_count": 30,
      "outputs": [
        {
          "output_type": "execute_result",
          "data": {
            "text/plain": [
              "(80,)"
            ]
          },
          "metadata": {
            "tags": []
          },
          "execution_count": 30
        }
      ]
    },
    {
      "cell_type": "code",
      "metadata": {
        "id": "z1C_dGmYjAH0",
        "colab_type": "code",
        "colab": {}
      },
      "source": [
        ""
      ],
      "execution_count": null,
      "outputs": []
    }
  ]
}