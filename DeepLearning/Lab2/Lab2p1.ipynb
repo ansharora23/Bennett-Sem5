{
  "nbformat": 4,
  "nbformat_minor": 0,
  "metadata": {
    "colab": {
      "name": "Untitled3.ipynb",
      "provenance": [],
      "collapsed_sections": []
    },
    "kernelspec": {
      "name": "python3",
      "display_name": "Python 3"
    }
  },
  "cells": [
    {
      "cell_type": "code",
      "metadata": {
        "id": "2Kvd0yZ9zPhA",
        "colab_type": "code",
        "colab": {}
      },
      "source": [
        "import pandas as pd\n",
        "import numpy as np"
      ],
      "execution_count": 2,
      "outputs": []
    },
    {
      "cell_type": "code",
      "metadata": {
        "id": "xd97pm9I2kYy",
        "colab_type": "code",
        "colab": {}
      },
      "source": [
        "df=pd.read_excel(\"https://github.com/ansharora23/Bennett-Sem5/blob/master/DeepLearning/Lab2/Data/Online%20Retail.xlsx?raw=true\")\n"
      ],
      "execution_count": 3,
      "outputs": []
    },
    {
      "cell_type": "code",
      "metadata": {
        "id": "oMkDEEkc5KDp",
        "colab_type": "code",
        "colab": {
          "base_uri": "https://localhost:8080/",
          "height": 419
        },
        "outputId": "d81c3ec5-a08d-4726-aa43-6a5e7c6997de"
      },
      "source": [
        "subset=df.iloc[ : , : 4]\n",
        "subset=subset[subset[\"InvoiceNo\"]==536544]\n",
        "subset"
      ],
      "execution_count": 4,
      "outputs": [
        {
          "output_type": "execute_result",
          "data": {
            "text/html": [
              "<div>\n",
              "<style scoped>\n",
              "    .dataframe tbody tr th:only-of-type {\n",
              "        vertical-align: middle;\n",
              "    }\n",
              "\n",
              "    .dataframe tbody tr th {\n",
              "        vertical-align: top;\n",
              "    }\n",
              "\n",
              "    .dataframe thead th {\n",
              "        text-align: right;\n",
              "    }\n",
              "</style>\n",
              "<table border=\"1\" class=\"dataframe\">\n",
              "  <thead>\n",
              "    <tr style=\"text-align: right;\">\n",
              "      <th></th>\n",
              "      <th>InvoiceNo</th>\n",
              "      <th>StockCode</th>\n",
              "      <th>Description</th>\n",
              "      <th>Quantity</th>\n",
              "    </tr>\n",
              "  </thead>\n",
              "  <tbody>\n",
              "    <tr>\n",
              "      <th>1443</th>\n",
              "      <td>536544</td>\n",
              "      <td>21773</td>\n",
              "      <td>DECORATIVE ROSE BATHROOM BOTTLE</td>\n",
              "      <td>1</td>\n",
              "    </tr>\n",
              "    <tr>\n",
              "      <th>1444</th>\n",
              "      <td>536544</td>\n",
              "      <td>21774</td>\n",
              "      <td>DECORATIVE CATS BATHROOM BOTTLE</td>\n",
              "      <td>2</td>\n",
              "    </tr>\n",
              "    <tr>\n",
              "      <th>1445</th>\n",
              "      <td>536544</td>\n",
              "      <td>21786</td>\n",
              "      <td>POLKADOT RAIN HAT</td>\n",
              "      <td>4</td>\n",
              "    </tr>\n",
              "    <tr>\n",
              "      <th>1446</th>\n",
              "      <td>536544</td>\n",
              "      <td>21787</td>\n",
              "      <td>RAIN PONCHO RETROSPOT</td>\n",
              "      <td>2</td>\n",
              "    </tr>\n",
              "    <tr>\n",
              "      <th>1447</th>\n",
              "      <td>536544</td>\n",
              "      <td>21790</td>\n",
              "      <td>VINTAGE SNAP CARDS</td>\n",
              "      <td>9</td>\n",
              "    </tr>\n",
              "    <tr>\n",
              "      <th>...</th>\n",
              "      <td>...</td>\n",
              "      <td>...</td>\n",
              "      <td>...</td>\n",
              "      <td>...</td>\n",
              "    </tr>\n",
              "    <tr>\n",
              "      <th>1965</th>\n",
              "      <td>536544</td>\n",
              "      <td>21721</td>\n",
              "      <td>CANDY SHOP  STICKER SHEET</td>\n",
              "      <td>1</td>\n",
              "    </tr>\n",
              "    <tr>\n",
              "      <th>1966</th>\n",
              "      <td>536544</td>\n",
              "      <td>21722</td>\n",
              "      <td>SWEET PUDDING STICKER SHEET</td>\n",
              "      <td>1</td>\n",
              "    </tr>\n",
              "    <tr>\n",
              "      <th>1967</th>\n",
              "      <td>536544</td>\n",
              "      <td>21731</td>\n",
              "      <td>RED TOADSTOOL LED NIGHT LIGHT</td>\n",
              "      <td>5</td>\n",
              "    </tr>\n",
              "    <tr>\n",
              "      <th>1968</th>\n",
              "      <td>536544</td>\n",
              "      <td>21742</td>\n",
              "      <td>LARGE ROUND WICKER PLATTER</td>\n",
              "      <td>1</td>\n",
              "    </tr>\n",
              "    <tr>\n",
              "      <th>1969</th>\n",
              "      <td>536544</td>\n",
              "      <td>21758</td>\n",
              "      <td>VINTAGE SHELLS PRINT</td>\n",
              "      <td>1</td>\n",
              "    </tr>\n",
              "  </tbody>\n",
              "</table>\n",
              "<p>527 rows × 4 columns</p>\n",
              "</div>"
            ],
            "text/plain": [
              "     InvoiceNo StockCode                      Description  Quantity\n",
              "1443    536544     21773  DECORATIVE ROSE BATHROOM BOTTLE         1\n",
              "1444    536544     21774  DECORATIVE CATS BATHROOM BOTTLE         2\n",
              "1445    536544     21786               POLKADOT RAIN HAT          4\n",
              "1446    536544     21787            RAIN PONCHO RETROSPOT         2\n",
              "1447    536544     21790               VINTAGE SNAP CARDS         9\n",
              "...        ...       ...                              ...       ...\n",
              "1965    536544     21721        CANDY SHOP  STICKER SHEET         1\n",
              "1966    536544     21722      SWEET PUDDING STICKER SHEET         1\n",
              "1967    536544     21731    RED TOADSTOOL LED NIGHT LIGHT         5\n",
              "1968    536544     21742      LARGE ROUND WICKER PLATTER          1\n",
              "1969    536544     21758             VINTAGE SHELLS PRINT         1\n",
              "\n",
              "[527 rows x 4 columns]"
            ]
          },
          "metadata": {
            "tags": []
          },
          "execution_count": 4
        }
      ]
    },
    {
      "cell_type": "code",
      "metadata": {
        "id": "CdadYbRi5Mnm",
        "colab_type": "code",
        "colab": {}
      },
      "source": [
        "data=df.filter(items=['StockCode', 'UnitPrice'])"
      ],
      "execution_count": 5,
      "outputs": []
    },
    {
      "cell_type": "code",
      "metadata": {
        "id": "MF-4be9B5thY",
        "colab_type": "code",
        "colab": {
          "base_uri": "https://localhost:8080/",
          "height": 51
        },
        "outputId": "5f350c6f-9e26-4c51-fe81-1facca708fbc"
      },
      "source": [
        "print(\"Minimum\")\n",
        "print(data.UnitPrice.min())"
      ],
      "execution_count": 6,
      "outputs": [
        {
          "output_type": "stream",
          "text": [
            "Minimum\n",
            "-11062.06\n"
          ],
          "name": "stdout"
        }
      ]
    },
    {
      "cell_type": "code",
      "metadata": {
        "id": "YGinDR6u5x7F",
        "colab_type": "code",
        "colab": {
          "base_uri": "https://localhost:8080/",
          "height": 51
        },
        "outputId": "8b3e9646-5347-49f1-aff1-096d2f2f503b"
      },
      "source": [
        "print(\"Maximum\")\n",
        "print(data.UnitPrice.max())"
      ],
      "execution_count": 7,
      "outputs": [
        {
          "output_type": "stream",
          "text": [
            "Maximum\n",
            "38970.0\n"
          ],
          "name": "stdout"
        }
      ]
    },
    {
      "cell_type": "code",
      "metadata": {
        "id": "-oPZBgbP516S",
        "colab_type": "code",
        "colab": {
          "base_uri": "https://localhost:8080/",
          "height": 51
        },
        "outputId": "b21abfc3-12bd-4d7c-ab3b-66fd049b75b4"
      },
      "source": [
        "print(\"Median\")\n",
        "print(data.UnitPrice.median())"
      ],
      "execution_count": 8,
      "outputs": [
        {
          "output_type": "stream",
          "text": [
            "Median\n",
            "2.08\n"
          ],
          "name": "stdout"
        }
      ]
    },
    {
      "cell_type": "code",
      "metadata": {
        "id": "DvhebsQW54eE",
        "colab_type": "code",
        "colab": {
          "base_uri": "https://localhost:8080/",
          "height": 51
        },
        "outputId": "7c5e7901-1908-4d3b-e167-0099a23dffdd"
      },
      "source": [
        "print(\"Mean\")\n",
        "print(data.UnitPrice.mean())"
      ],
      "execution_count": 9,
      "outputs": [
        {
          "output_type": "stream",
          "text": [
            "Mean\n",
            "4.611113626083471\n"
          ],
          "name": "stdout"
        }
      ]
    },
    {
      "cell_type": "code",
      "metadata": {
        "id": "ECSy5zyL56kj",
        "colab_type": "code",
        "colab": {
          "base_uri": "https://localhost:8080/",
          "height": 51
        },
        "outputId": "5881157b-0ea1-450a-9b3e-6d2c8f5d431e"
      },
      "source": [
        "print(\"Count\")\n",
        "print(data.UnitPrice.count())"
      ],
      "execution_count": 10,
      "outputs": [
        {
          "output_type": "stream",
          "text": [
            "Count\n",
            "541909\n"
          ],
          "name": "stdout"
        }
      ]
    },
    {
      "cell_type": "code",
      "metadata": {
        "id": "bNiSljPK58xa",
        "colab_type": "code",
        "colab": {
          "base_uri": "https://localhost:8080/",
          "height": 51
        },
        "outputId": "e6747a37-f4d4-4ac8-9ce4-6d17233644d6"
      },
      "source": [
        "print(\"Sum\")\n",
        "print(data.UnitPrice.sum())"
      ],
      "execution_count": 11,
      "outputs": [
        {
          "output_type": "stream",
          "text": [
            "Sum\n",
            "2498803.974\n"
          ],
          "name": "stdout"
        }
      ]
    },
    {
      "cell_type": "code",
      "metadata": {
        "id": "iHmCRQBf6Hf8",
        "colab_type": "code",
        "colab": {
          "base_uri": "https://localhost:8080/",
          "height": 51
        },
        "outputId": "35c8b741-8575-42a8-fecf-20604609b8ce"
      },
      "source": [
        "print(\"Standard Deviation\")\n",
        "print(data.UnitPrice.std())"
      ],
      "execution_count": 12,
      "outputs": [
        {
          "output_type": "stream",
          "text": [
            "Standard Deviation\n",
            "96.75985306119716\n"
          ],
          "name": "stdout"
        }
      ]
    },
    {
      "cell_type": "code",
      "metadata": {
        "id": "86faNtaJ6JkE",
        "colab_type": "code",
        "colab": {
          "base_uri": "https://localhost:8080/",
          "height": 51
        },
        "outputId": "9b332e3f-bf6a-496b-a1bb-68be74ec75f1"
      },
      "source": [
        "print(\"Variance\")\n",
        "print(data.UnitPrice.var())"
      ],
      "execution_count": 13,
      "outputs": [
        {
          "output_type": "stream",
          "text": [
            "Variance\n",
            "9362.469164424467\n"
          ],
          "name": "stdout"
        }
      ]
    },
    {
      "cell_type": "code",
      "metadata": {
        "id": "TJMNYMPA6L4V",
        "colab_type": "code",
        "colab": {}
      },
      "source": [
        "new_df=df[100:]\n",
        "new_df.reset_index(inplace=True)"
      ],
      "execution_count": 14,
      "outputs": []
    },
    {
      "cell_type": "code",
      "metadata": {
        "id": "HQT9CwXq8Dbr",
        "colab_type": "code",
        "colab": {}
      },
      "source": [
        "new_df=new_df.sort_values([\"InvoiceDate\"])"
      ],
      "execution_count": 15,
      "outputs": []
    },
    {
      "cell_type": "code",
      "metadata": {
        "id": "VhACuQPcmepi",
        "colab_type": "code",
        "colab": {}
      },
      "source": [
        "new_df = new_df.dropna()"
      ],
      "execution_count": 21,
      "outputs": []
    },
    {
      "cell_type": "code",
      "metadata": {
        "id": "vmNHgwRHlOfr",
        "colab_type": "code",
        "colab": {}
      },
      "source": [
        "Description=pd.Series(new_df[\"Description\"])"
      ],
      "execution_count": 22,
      "outputs": []
    },
    {
      "cell_type": "code",
      "metadata": {
        "id": "XLzygRRvmGTA",
        "colab_type": "code",
        "colab": {}
      },
      "source": [
        "Description=Description.str.startswith('D')"
      ],
      "execution_count": 23,
      "outputs": []
    },
    {
      "cell_type": "code",
      "metadata": {
        "id": "9LYWUguYmG2E",
        "colab_type": "code",
        "colab": {
          "base_uri": "https://localhost:8080/",
          "height": 436
        },
        "outputId": "89d09332-5aea-4840-fa87-25a162114e92"
      },
      "source": [
        "print(\"Description that starts with letter D\")\n",
        "new_df[Description.values]"
      ],
      "execution_count": 24,
      "outputs": [
        {
          "output_type": "stream",
          "text": [
            "Description that starts with letter D\n"
          ],
          "name": "stdout"
        },
        {
          "output_type": "execute_result",
          "data": {
            "text/html": [
              "<div>\n",
              "<style scoped>\n",
              "    .dataframe tbody tr th:only-of-type {\n",
              "        vertical-align: middle;\n",
              "    }\n",
              "\n",
              "    .dataframe tbody tr th {\n",
              "        vertical-align: top;\n",
              "    }\n",
              "\n",
              "    .dataframe thead th {\n",
              "        text-align: right;\n",
              "    }\n",
              "</style>\n",
              "<table border=\"1\" class=\"dataframe\">\n",
              "  <thead>\n",
              "    <tr style=\"text-align: right;\">\n",
              "      <th></th>\n",
              "      <th>index</th>\n",
              "      <th>InvoiceNo</th>\n",
              "      <th>StockCode</th>\n",
              "      <th>Description</th>\n",
              "      <th>Quantity</th>\n",
              "      <th>InvoiceDate</th>\n",
              "      <th>UnitPrice</th>\n",
              "      <th>CustomerID</th>\n",
              "      <th>Country</th>\n",
              "    </tr>\n",
              "  </thead>\n",
              "  <tbody>\n",
              "    <tr>\n",
              "      <th>40</th>\n",
              "      <td>140</td>\n",
              "      <td>536381</td>\n",
              "      <td>21523</td>\n",
              "      <td>DOORMAT FANCY FONT HOME SWEET HOME</td>\n",
              "      <td>10</td>\n",
              "      <td>2010-12-01 09:41:00</td>\n",
              "      <td>6.75</td>\n",
              "      <td>15311.0</td>\n",
              "      <td>United Kingdom</td>\n",
              "    </tr>\n",
              "    <tr>\n",
              "      <th>41</th>\n",
              "      <td>141</td>\n",
              "      <td>C536379</td>\n",
              "      <td>D</td>\n",
              "      <td>Discount</td>\n",
              "      <td>-1</td>\n",
              "      <td>2010-12-01 09:41:00</td>\n",
              "      <td>27.50</td>\n",
              "      <td>14527.0</td>\n",
              "      <td>United Kingdom</td>\n",
              "    </tr>\n",
              "    <tr>\n",
              "      <th>85</th>\n",
              "      <td>185</td>\n",
              "      <td>536388</td>\n",
              "      <td>21523</td>\n",
              "      <td>DOORMAT FANCY FONT HOME SWEET HOME</td>\n",
              "      <td>2</td>\n",
              "      <td>2010-12-01 09:59:00</td>\n",
              "      <td>7.95</td>\n",
              "      <td>16250.0</td>\n",
              "      <td>United Kingdom</td>\n",
              "    </tr>\n",
              "    <tr>\n",
              "      <th>128</th>\n",
              "      <td>228</td>\n",
              "      <td>536390</td>\n",
              "      <td>22654</td>\n",
              "      <td>DELUXE SEWING KIT</td>\n",
              "      <td>40</td>\n",
              "      <td>2010-12-01 10:19:00</td>\n",
              "      <td>4.95</td>\n",
              "      <td>17511.0</td>\n",
              "      <td>United Kingdom</td>\n",
              "    </tr>\n",
              "    <tr>\n",
              "      <th>119</th>\n",
              "      <td>219</td>\n",
              "      <td>536390</td>\n",
              "      <td>20668</td>\n",
              "      <td>DISCO BALL CHRISTMAS DECORATION</td>\n",
              "      <td>288</td>\n",
              "      <td>2010-12-01 10:19:00</td>\n",
              "      <td>0.10</td>\n",
              "      <td>17511.0</td>\n",
              "      <td>United Kingdom</td>\n",
              "    </tr>\n",
              "    <tr>\n",
              "      <th>...</th>\n",
              "      <td>...</td>\n",
              "      <td>...</td>\n",
              "      <td>...</td>\n",
              "      <td>...</td>\n",
              "      <td>...</td>\n",
              "      <td>...</td>\n",
              "      <td>...</td>\n",
              "      <td>...</td>\n",
              "      <td>...</td>\n",
              "    </tr>\n",
              "    <tr>\n",
              "      <th>541553</th>\n",
              "      <td>541653</td>\n",
              "      <td>581538</td>\n",
              "      <td>23033</td>\n",
              "      <td>DRAWER KNOB CERAMIC RED</td>\n",
              "      <td>1</td>\n",
              "      <td>2011-12-09 11:34:00</td>\n",
              "      <td>1.45</td>\n",
              "      <td>14446.0</td>\n",
              "      <td>United Kingdom</td>\n",
              "    </tr>\n",
              "    <tr>\n",
              "      <th>541551</th>\n",
              "      <td>541651</td>\n",
              "      <td>581538</td>\n",
              "      <td>23034</td>\n",
              "      <td>DRAWER KNOB CERAMIC BLACK</td>\n",
              "      <td>1</td>\n",
              "      <td>2011-12-09 11:34:00</td>\n",
              "      <td>1.45</td>\n",
              "      <td>14446.0</td>\n",
              "      <td>United Kingdom</td>\n",
              "    </tr>\n",
              "    <tr>\n",
              "      <th>541627</th>\n",
              "      <td>541727</td>\n",
              "      <td>581570</td>\n",
              "      <td>23077</td>\n",
              "      <td>DOUGHNUT LIP GLOSS</td>\n",
              "      <td>20</td>\n",
              "      <td>2011-12-09 11:59:00</td>\n",
              "      <td>1.25</td>\n",
              "      <td>12662.0</td>\n",
              "      <td>Germany</td>\n",
              "    </tr>\n",
              "    <tr>\n",
              "      <th>541633</th>\n",
              "      <td>541733</td>\n",
              "      <td>581571</td>\n",
              "      <td>48187</td>\n",
              "      <td>DOORMAT NEW ENGLAND</td>\n",
              "      <td>1</td>\n",
              "      <td>2011-12-09 12:00:00</td>\n",
              "      <td>8.25</td>\n",
              "      <td>15311.0</td>\n",
              "      <td>United Kingdom</td>\n",
              "    </tr>\n",
              "    <tr>\n",
              "      <th>541793</th>\n",
              "      <td>541893</td>\n",
              "      <td>581586</td>\n",
              "      <td>20685</td>\n",
              "      <td>DOORMAT RED RETROSPOT</td>\n",
              "      <td>10</td>\n",
              "      <td>2011-12-09 12:49:00</td>\n",
              "      <td>7.08</td>\n",
              "      <td>13113.0</td>\n",
              "      <td>United Kingdom</td>\n",
              "    </tr>\n",
              "  </tbody>\n",
              "</table>\n",
              "<p>14535 rows × 9 columns</p>\n",
              "</div>"
            ],
            "text/plain": [
              "         index InvoiceNo StockCode  ... UnitPrice  CustomerID         Country\n",
              "40         140    536381     21523  ...      6.75     15311.0  United Kingdom\n",
              "41         141   C536379         D  ...     27.50     14527.0  United Kingdom\n",
              "85         185    536388     21523  ...      7.95     16250.0  United Kingdom\n",
              "128        228    536390     22654  ...      4.95     17511.0  United Kingdom\n",
              "119        219    536390     20668  ...      0.10     17511.0  United Kingdom\n",
              "...        ...       ...       ...  ...       ...         ...             ...\n",
              "541553  541653    581538     23033  ...      1.45     14446.0  United Kingdom\n",
              "541551  541651    581538     23034  ...      1.45     14446.0  United Kingdom\n",
              "541627  541727    581570     23077  ...      1.25     12662.0         Germany\n",
              "541633  541733    581571     48187  ...      8.25     15311.0  United Kingdom\n",
              "541793  541893    581586     20685  ...      7.08     13113.0  United Kingdom\n",
              "\n",
              "[14535 rows x 9 columns]"
            ]
          },
          "metadata": {
            "tags": []
          },
          "execution_count": 24
        }
      ]
    },
    {
      "cell_type": "markdown",
      "metadata": {
        "id": "bj4EgzHJm8JU",
        "colab_type": "text"
      },
      "source": [
        "# Creating dataframe"
      ]
    },
    {
      "cell_type": "code",
      "metadata": {
        "id": "RbyKGg2omTL6",
        "colab_type": "code",
        "colab": {
          "base_uri": "https://localhost:8080/",
          "height": 204
        },
        "outputId": "45af2227-9593-40a3-9d97-1a2e44909f66"
      },
      "source": [
        "#list of lists\n",
        "data = [[\"Rohan\", \"23-05-2000\", 87], [\"Sunny\", \"10-12-1999\", 77],[\"Nina\", \"13-09-2000\", 98], [\"Ashit\", \"17-11-1999\", 75], [\"Sandra\", \"20-02-1999\", 88]]\n",
        "df1 = pd.DataFrame(data, columns = ['Student Name', 'DOB', 'Marks in english'])\n",
        "df1"
      ],
      "execution_count": 28,
      "outputs": [
        {
          "output_type": "execute_result",
          "data": {
            "text/html": [
              "<div>\n",
              "<style scoped>\n",
              "    .dataframe tbody tr th:only-of-type {\n",
              "        vertical-align: middle;\n",
              "    }\n",
              "\n",
              "    .dataframe tbody tr th {\n",
              "        vertical-align: top;\n",
              "    }\n",
              "\n",
              "    .dataframe thead th {\n",
              "        text-align: right;\n",
              "    }\n",
              "</style>\n",
              "<table border=\"1\" class=\"dataframe\">\n",
              "  <thead>\n",
              "    <tr style=\"text-align: right;\">\n",
              "      <th></th>\n",
              "      <th>Student Name</th>\n",
              "      <th>DOB</th>\n",
              "      <th>Marks in english</th>\n",
              "    </tr>\n",
              "  </thead>\n",
              "  <tbody>\n",
              "    <tr>\n",
              "      <th>0</th>\n",
              "      <td>Rohan</td>\n",
              "      <td>23-05-2000</td>\n",
              "      <td>87</td>\n",
              "    </tr>\n",
              "    <tr>\n",
              "      <th>1</th>\n",
              "      <td>Sunny</td>\n",
              "      <td>10-12-1999</td>\n",
              "      <td>77</td>\n",
              "    </tr>\n",
              "    <tr>\n",
              "      <th>2</th>\n",
              "      <td>Nina</td>\n",
              "      <td>13-09-2000</td>\n",
              "      <td>98</td>\n",
              "    </tr>\n",
              "    <tr>\n",
              "      <th>3</th>\n",
              "      <td>Ashit</td>\n",
              "      <td>17-11-1999</td>\n",
              "      <td>75</td>\n",
              "    </tr>\n",
              "    <tr>\n",
              "      <th>4</th>\n",
              "      <td>Sandra</td>\n",
              "      <td>20-02-1999</td>\n",
              "      <td>88</td>\n",
              "    </tr>\n",
              "  </tbody>\n",
              "</table>\n",
              "</div>"
            ],
            "text/plain": [
              "  Student Name         DOB  Marks in english\n",
              "0        Rohan  23-05-2000                87\n",
              "1        Sunny  10-12-1999                77\n",
              "2         Nina  13-09-2000                98\n",
              "3        Ashit  17-11-1999                75\n",
              "4       Sandra  20-02-1999                88"
            ]
          },
          "metadata": {
            "tags": []
          },
          "execution_count": 28
        }
      ]
    },
    {
      "cell_type": "code",
      "metadata": {
        "id": "qSIMqVwYn7jO",
        "colab_type": "code",
        "colab": {
          "base_uri": "https://localhost:8080/",
          "height": 204
        },
        "outputId": "d0cf8ea5-a68a-47a6-fe2e-85128e546df4"
      },
      "source": [
        "data = {'Student Name':['Rohan', 'Sunny', 'Nina','Ashit','Sandra'],  'Date of Birth':['10-11-2000','24-02-2000','22-09-2000' ,'05-01-1999', '24-02-2000'],  'Marks in maths':[100,88,72,72,80]} \n",
        "df2 = pd.DataFrame(data)\n",
        "df2"
      ],
      "execution_count": 31,
      "outputs": [
        {
          "output_type": "execute_result",
          "data": {
            "text/html": [
              "<div>\n",
              "<style scoped>\n",
              "    .dataframe tbody tr th:only-of-type {\n",
              "        vertical-align: middle;\n",
              "    }\n",
              "\n",
              "    .dataframe tbody tr th {\n",
              "        vertical-align: top;\n",
              "    }\n",
              "\n",
              "    .dataframe thead th {\n",
              "        text-align: right;\n",
              "    }\n",
              "</style>\n",
              "<table border=\"1\" class=\"dataframe\">\n",
              "  <thead>\n",
              "    <tr style=\"text-align: right;\">\n",
              "      <th></th>\n",
              "      <th>Student Name</th>\n",
              "      <th>Date of Birth</th>\n",
              "      <th>Marks in maths</th>\n",
              "    </tr>\n",
              "  </thead>\n",
              "  <tbody>\n",
              "    <tr>\n",
              "      <th>0</th>\n",
              "      <td>Rohan</td>\n",
              "      <td>10-11-2000</td>\n",
              "      <td>100</td>\n",
              "    </tr>\n",
              "    <tr>\n",
              "      <th>1</th>\n",
              "      <td>Sunny</td>\n",
              "      <td>24-02-2000</td>\n",
              "      <td>88</td>\n",
              "    </tr>\n",
              "    <tr>\n",
              "      <th>2</th>\n",
              "      <td>Nina</td>\n",
              "      <td>22-09-2000</td>\n",
              "      <td>72</td>\n",
              "    </tr>\n",
              "    <tr>\n",
              "      <th>3</th>\n",
              "      <td>Ashit</td>\n",
              "      <td>05-01-1999</td>\n",
              "      <td>72</td>\n",
              "    </tr>\n",
              "    <tr>\n",
              "      <th>4</th>\n",
              "      <td>Sandra</td>\n",
              "      <td>24-02-2000</td>\n",
              "      <td>80</td>\n",
              "    </tr>\n",
              "  </tbody>\n",
              "</table>\n",
              "</div>"
            ],
            "text/plain": [
              "  Student Name Date of Birth  Marks in maths\n",
              "0        Rohan    10-11-2000             100\n",
              "1        Sunny    24-02-2000              88\n",
              "2         Nina    22-09-2000              72\n",
              "3        Ashit    05-01-1999              72\n",
              "4       Sandra    24-02-2000              80"
            ]
          },
          "metadata": {
            "tags": []
          },
          "execution_count": 31
        }
      ]
    },
    {
      "cell_type": "code",
      "metadata": {
        "id": "VGvNaC4Hoy2w",
        "colab_type": "code",
        "colab": {
          "base_uri": "https://localhost:8080/",
          "height": 204
        },
        "outputId": "3d27e5e4-6548-4215-b4eb-5b5fc6c7b3b0"
      },
      "source": [
        "data = [{'Student Name': 'Rohan', 'Date of Birth': '02-01-2001', 'Marks in maths':21},\n",
        "        {'Student Name': 'Sunny', 'Date of Birth': '25-12-2000', 'Marks in maths':44},\n",
        "        {'Student Name': 'Nina', 'Date of Birth': '13-12-1999', 'Marks in maths':41},\n",
        "        {'Student Name': 'Ashit', 'Date of Birth': '11-11-1999', 'Marks in maths':54},\n",
        "        {'Student Name': 'Sandra', 'Date of Birth': '01-10-1999', 'Marks in maths':100}] \n",
        "df3 = pd.DataFrame(data)\n",
        "df3"
      ],
      "execution_count": 32,
      "outputs": [
        {
          "output_type": "execute_result",
          "data": {
            "text/html": [
              "<div>\n",
              "<style scoped>\n",
              "    .dataframe tbody tr th:only-of-type {\n",
              "        vertical-align: middle;\n",
              "    }\n",
              "\n",
              "    .dataframe tbody tr th {\n",
              "        vertical-align: top;\n",
              "    }\n",
              "\n",
              "    .dataframe thead th {\n",
              "        text-align: right;\n",
              "    }\n",
              "</style>\n",
              "<table border=\"1\" class=\"dataframe\">\n",
              "  <thead>\n",
              "    <tr style=\"text-align: right;\">\n",
              "      <th></th>\n",
              "      <th>Student Name</th>\n",
              "      <th>Date of Birth</th>\n",
              "      <th>Marks in maths</th>\n",
              "    </tr>\n",
              "  </thead>\n",
              "  <tbody>\n",
              "    <tr>\n",
              "      <th>0</th>\n",
              "      <td>Rohan</td>\n",
              "      <td>02-01-2001</td>\n",
              "      <td>21</td>\n",
              "    </tr>\n",
              "    <tr>\n",
              "      <th>1</th>\n",
              "      <td>Sunny</td>\n",
              "      <td>25-12-2000</td>\n",
              "      <td>44</td>\n",
              "    </tr>\n",
              "    <tr>\n",
              "      <th>2</th>\n",
              "      <td>Nina</td>\n",
              "      <td>13-12-1999</td>\n",
              "      <td>41</td>\n",
              "    </tr>\n",
              "    <tr>\n",
              "      <th>3</th>\n",
              "      <td>Ashit</td>\n",
              "      <td>11-11-1999</td>\n",
              "      <td>54</td>\n",
              "    </tr>\n",
              "    <tr>\n",
              "      <th>4</th>\n",
              "      <td>Sandra</td>\n",
              "      <td>01-10-1999</td>\n",
              "      <td>100</td>\n",
              "    </tr>\n",
              "  </tbody>\n",
              "</table>\n",
              "</div>"
            ],
            "text/plain": [
              "  Student Name Date of Birth  Marks in maths\n",
              "0        Rohan    02-01-2001              21\n",
              "1        Sunny    25-12-2000              44\n",
              "2         Nina    13-12-1999              41\n",
              "3        Ashit    11-11-1999              54\n",
              "4       Sandra    01-10-1999             100"
            ]
          },
          "metadata": {
            "tags": []
          },
          "execution_count": 32
        }
      ]
    },
    {
      "cell_type": "code",
      "metadata": {
        "id": "Y8Iv4vOUpowl",
        "colab_type": "code",
        "colab": {
          "base_uri": "https://localhost:8080/",
          "height": 204
        },
        "outputId": "96cd7249-76e9-4cfc-b608-a93da3fc2f7a"
      },
      "source": [
        "d = {'Student Name' : pd.Series(['Rohan', 'Sunny', 'Jack','Nina','Ashit']), \n",
        "      'Date of Birth' : pd.Series(['11-02-2000', '24-05-2000', '11-05-1998','01-05-2000','05-09-2000']),\n",
        "     'Marks in maths' : pd.Series([100, 95, 91,16,91 ])} \n",
        "df4 = pd.DataFrame(d)\n",
        "df4"
      ],
      "execution_count": 34,
      "outputs": [
        {
          "output_type": "execute_result",
          "data": {
            "text/html": [
              "<div>\n",
              "<style scoped>\n",
              "    .dataframe tbody tr th:only-of-type {\n",
              "        vertical-align: middle;\n",
              "    }\n",
              "\n",
              "    .dataframe tbody tr th {\n",
              "        vertical-align: top;\n",
              "    }\n",
              "\n",
              "    .dataframe thead th {\n",
              "        text-align: right;\n",
              "    }\n",
              "</style>\n",
              "<table border=\"1\" class=\"dataframe\">\n",
              "  <thead>\n",
              "    <tr style=\"text-align: right;\">\n",
              "      <th></th>\n",
              "      <th>Student Name</th>\n",
              "      <th>Date of Birth</th>\n",
              "      <th>Marks in maths</th>\n",
              "    </tr>\n",
              "  </thead>\n",
              "  <tbody>\n",
              "    <tr>\n",
              "      <th>0</th>\n",
              "      <td>Rohan</td>\n",
              "      <td>11-02-2000</td>\n",
              "      <td>100</td>\n",
              "    </tr>\n",
              "    <tr>\n",
              "      <th>1</th>\n",
              "      <td>Sunny</td>\n",
              "      <td>24-05-2000</td>\n",
              "      <td>95</td>\n",
              "    </tr>\n",
              "    <tr>\n",
              "      <th>2</th>\n",
              "      <td>Jack</td>\n",
              "      <td>11-05-1998</td>\n",
              "      <td>91</td>\n",
              "    </tr>\n",
              "    <tr>\n",
              "      <th>3</th>\n",
              "      <td>Nina</td>\n",
              "      <td>01-05-2000</td>\n",
              "      <td>16</td>\n",
              "    </tr>\n",
              "    <tr>\n",
              "      <th>4</th>\n",
              "      <td>Ashit</td>\n",
              "      <td>05-09-2000</td>\n",
              "      <td>91</td>\n",
              "    </tr>\n",
              "  </tbody>\n",
              "</table>\n",
              "</div>"
            ],
            "text/plain": [
              "  Student Name Date of Birth  Marks in maths\n",
              "0        Rohan    11-02-2000             100\n",
              "1        Sunny    24-05-2000              95\n",
              "2         Jack    11-05-1998              91\n",
              "3         Nina    01-05-2000              16\n",
              "4        Ashit    05-09-2000              91"
            ]
          },
          "metadata": {
            "tags": []
          },
          "execution_count": 34
        }
      ]
    },
    {
      "cell_type": "code",
      "metadata": {
        "id": "q60CpoRFqK0G",
        "colab_type": "code",
        "colab": {
          "base_uri": "https://localhost:8080/",
          "height": 204
        },
        "outputId": "97f4763f-2e33-4f9a-9546-aba8932129f0"
      },
      "source": [
        "df5 = pd.DataFrame(columns = ['Student Name', 'DOB',\"Marks in english\"])\n",
        "df5 = df5.append({'Student Name': 'Rohun', 'DOB': '11-11-2000', 'Marks in english': 99}, ignore_index=True)\n",
        "df5 = df5.append({'Student Name': 'Sunny', 'DOB': '20-11-2000', 'Marks in english': 91}, ignore_index=True)\n",
        "df5 = df5.append({'Student Name': 'Nina', 'DOB': '21-11-1998', 'Marks in english': 99}, ignore_index=True)\n",
        "df5 = df5.append({'Student Name': 'Jamal', 'DOB': '23-10-1997', 'Marks in english': 94}, ignore_index=True)\n",
        "df5 = df5.append({'Student Name': 'Jima', 'DOB': '31-01-1991', 'Marks in english': 94}, ignore_index=True)\n",
        "df5"
      ],
      "execution_count": 37,
      "outputs": [
        {
          "output_type": "execute_result",
          "data": {
            "text/html": [
              "<div>\n",
              "<style scoped>\n",
              "    .dataframe tbody tr th:only-of-type {\n",
              "        vertical-align: middle;\n",
              "    }\n",
              "\n",
              "    .dataframe tbody tr th {\n",
              "        vertical-align: top;\n",
              "    }\n",
              "\n",
              "    .dataframe thead th {\n",
              "        text-align: right;\n",
              "    }\n",
              "</style>\n",
              "<table border=\"1\" class=\"dataframe\">\n",
              "  <thead>\n",
              "    <tr style=\"text-align: right;\">\n",
              "      <th></th>\n",
              "      <th>Student Name</th>\n",
              "      <th>DOB</th>\n",
              "      <th>Marks in english</th>\n",
              "    </tr>\n",
              "  </thead>\n",
              "  <tbody>\n",
              "    <tr>\n",
              "      <th>0</th>\n",
              "      <td>Rohun</td>\n",
              "      <td>11-11-2000</td>\n",
              "      <td>99</td>\n",
              "    </tr>\n",
              "    <tr>\n",
              "      <th>1</th>\n",
              "      <td>Sunny</td>\n",
              "      <td>20-11-2000</td>\n",
              "      <td>91</td>\n",
              "    </tr>\n",
              "    <tr>\n",
              "      <th>2</th>\n",
              "      <td>Nina</td>\n",
              "      <td>21-11-1998</td>\n",
              "      <td>99</td>\n",
              "    </tr>\n",
              "    <tr>\n",
              "      <th>3</th>\n",
              "      <td>Jamal</td>\n",
              "      <td>23-10-1997</td>\n",
              "      <td>94</td>\n",
              "    </tr>\n",
              "    <tr>\n",
              "      <th>4</th>\n",
              "      <td>Jima</td>\n",
              "      <td>31-01-1991</td>\n",
              "      <td>94</td>\n",
              "    </tr>\n",
              "  </tbody>\n",
              "</table>\n",
              "</div>"
            ],
            "text/plain": [
              "  Student Name         DOB Marks in english\n",
              "0        Rohun  11-11-2000               99\n",
              "1        Sunny  20-11-2000               91\n",
              "2         Nina  21-11-1998               99\n",
              "3        Jamal  23-10-1997               94\n",
              "4         Jima  31-01-1991               94"
            ]
          },
          "metadata": {
            "tags": []
          },
          "execution_count": 37
        }
      ]
    },
    {
      "cell_type": "markdown",
      "metadata": {
        "id": "xxl2q2OpsGy5",
        "colab_type": "text"
      },
      "source": [
        "# Series\n"
      ]
    },
    {
      "cell_type": "code",
      "metadata": {
        "id": "_3GMkIHOrpwS",
        "colab_type": "code",
        "colab": {
          "base_uri": "https://localhost:8080/",
          "height": 419
        },
        "outputId": "34d707ee-4428-4a1e-f89d-300f3de38c1f"
      },
      "source": [
        "s1=pd.Series(np.random.randint(0,100,size=100))\n",
        "s2=pd.Series(np.random.randint(0,100,size=100))\n",
        "\n",
        "add=s1+s2\n",
        "sub=s1-s2\n",
        "mult=s1*s2\n",
        "div=s1/s2\n",
        "\n",
        "data = {'number 1':s1,  'number 2':s2,  'add':add , 'sub':sub ,'mult':mult,'div':div}\n",
        "\n",
        "df6=pd.DataFrame(data)\n",
        "df6"
      ],
      "execution_count": 39,
      "outputs": [
        {
          "output_type": "execute_result",
          "data": {
            "text/html": [
              "<div>\n",
              "<style scoped>\n",
              "    .dataframe tbody tr th:only-of-type {\n",
              "        vertical-align: middle;\n",
              "    }\n",
              "\n",
              "    .dataframe tbody tr th {\n",
              "        vertical-align: top;\n",
              "    }\n",
              "\n",
              "    .dataframe thead th {\n",
              "        text-align: right;\n",
              "    }\n",
              "</style>\n",
              "<table border=\"1\" class=\"dataframe\">\n",
              "  <thead>\n",
              "    <tr style=\"text-align: right;\">\n",
              "      <th></th>\n",
              "      <th>number 1</th>\n",
              "      <th>number 2</th>\n",
              "      <th>add</th>\n",
              "      <th>sub</th>\n",
              "      <th>mult</th>\n",
              "      <th>div</th>\n",
              "    </tr>\n",
              "  </thead>\n",
              "  <tbody>\n",
              "    <tr>\n",
              "      <th>0</th>\n",
              "      <td>2</td>\n",
              "      <td>2</td>\n",
              "      <td>4</td>\n",
              "      <td>0</td>\n",
              "      <td>4</td>\n",
              "      <td>1.000000</td>\n",
              "    </tr>\n",
              "    <tr>\n",
              "      <th>1</th>\n",
              "      <td>67</td>\n",
              "      <td>17</td>\n",
              "      <td>84</td>\n",
              "      <td>50</td>\n",
              "      <td>1139</td>\n",
              "      <td>3.941176</td>\n",
              "    </tr>\n",
              "    <tr>\n",
              "      <th>2</th>\n",
              "      <td>81</td>\n",
              "      <td>17</td>\n",
              "      <td>98</td>\n",
              "      <td>64</td>\n",
              "      <td>1377</td>\n",
              "      <td>4.764706</td>\n",
              "    </tr>\n",
              "    <tr>\n",
              "      <th>3</th>\n",
              "      <td>3</td>\n",
              "      <td>12</td>\n",
              "      <td>15</td>\n",
              "      <td>-9</td>\n",
              "      <td>36</td>\n",
              "      <td>0.250000</td>\n",
              "    </tr>\n",
              "    <tr>\n",
              "      <th>4</th>\n",
              "      <td>33</td>\n",
              "      <td>53</td>\n",
              "      <td>86</td>\n",
              "      <td>-20</td>\n",
              "      <td>1749</td>\n",
              "      <td>0.622642</td>\n",
              "    </tr>\n",
              "    <tr>\n",
              "      <th>...</th>\n",
              "      <td>...</td>\n",
              "      <td>...</td>\n",
              "      <td>...</td>\n",
              "      <td>...</td>\n",
              "      <td>...</td>\n",
              "      <td>...</td>\n",
              "    </tr>\n",
              "    <tr>\n",
              "      <th>95</th>\n",
              "      <td>90</td>\n",
              "      <td>54</td>\n",
              "      <td>144</td>\n",
              "      <td>36</td>\n",
              "      <td>4860</td>\n",
              "      <td>1.666667</td>\n",
              "    </tr>\n",
              "    <tr>\n",
              "      <th>96</th>\n",
              "      <td>60</td>\n",
              "      <td>79</td>\n",
              "      <td>139</td>\n",
              "      <td>-19</td>\n",
              "      <td>4740</td>\n",
              "      <td>0.759494</td>\n",
              "    </tr>\n",
              "    <tr>\n",
              "      <th>97</th>\n",
              "      <td>74</td>\n",
              "      <td>89</td>\n",
              "      <td>163</td>\n",
              "      <td>-15</td>\n",
              "      <td>6586</td>\n",
              "      <td>0.831461</td>\n",
              "    </tr>\n",
              "    <tr>\n",
              "      <th>98</th>\n",
              "      <td>60</td>\n",
              "      <td>49</td>\n",
              "      <td>109</td>\n",
              "      <td>11</td>\n",
              "      <td>2940</td>\n",
              "      <td>1.224490</td>\n",
              "    </tr>\n",
              "    <tr>\n",
              "      <th>99</th>\n",
              "      <td>34</td>\n",
              "      <td>2</td>\n",
              "      <td>36</td>\n",
              "      <td>32</td>\n",
              "      <td>68</td>\n",
              "      <td>17.000000</td>\n",
              "    </tr>\n",
              "  </tbody>\n",
              "</table>\n",
              "<p>100 rows × 6 columns</p>\n",
              "</div>"
            ],
            "text/plain": [
              "    number 1  number 2  add  sub  mult        div\n",
              "0          2         2    4    0     4   1.000000\n",
              "1         67        17   84   50  1139   3.941176\n",
              "2         81        17   98   64  1377   4.764706\n",
              "3          3        12   15   -9    36   0.250000\n",
              "4         33        53   86  -20  1749   0.622642\n",
              "..       ...       ...  ...  ...   ...        ...\n",
              "95        90        54  144   36  4860   1.666667\n",
              "96        60        79  139  -19  4740   0.759494\n",
              "97        74        89  163  -15  6586   0.831461\n",
              "98        60        49  109   11  2940   1.224490\n",
              "99        34         2   36   32    68  17.000000\n",
              "\n",
              "[100 rows x 6 columns]"
            ]
          },
          "metadata": {
            "tags": []
          },
          "execution_count": 39
        }
      ]
    },
    {
      "cell_type": "code",
      "metadata": {
        "id": "koNc0mm8sWZE",
        "colab_type": "code",
        "colab": {}
      },
      "source": [
        ""
      ],
      "execution_count": null,
      "outputs": []
    }
  ]
}