{
  "nbformat": 4,
  "nbformat_minor": 0,
  "metadata": {
    "colab": {
      "name": "Untitled9.ipynb",
      "provenance": []
    },
    "kernelspec": {
      "name": "python3",
      "display_name": "Python 3"
    }
  },
  "cells": [
    {
      "cell_type": "code",
      "metadata": {
        "id": "83Hc7JECU10-",
        "colab_type": "code",
        "colab": {}
      },
      "source": [
        "import numpy as np\n",
        "import pandas as pd\n",
        "import os\n",
        "import matplotlib.pyplot as plt\n",
        "import cv2\n",
        "from google.colab.patches import cv2_imshow"
      ],
      "execution_count": 17,
      "outputs": []
    },
    {
      "cell_type": "code",
      "metadata": {
        "id": "c6F6nMX3VdJz",
        "colab_type": "code",
        "colab": {}
      },
      "source": [
        "'''\n",
        "cats represented by 0\n",
        "dogs represented by 1\n",
        "'''\n",
        "\n",
        "image_train = []\n",
        "for i in range(1,11):\n",
        "  #ADDING CATS\n",
        "  img = cv2.imread(\"/content/drive/My Drive/Datasets/DLLab3/Cats/cat.\"+str(i)+\".jpg\", cv2.IMREAD_GRAYSCALE)\n",
        "  img = cv2.resize(img,(500,500))\n",
        "  img = np.array(img)\n",
        "  img = img.flatten()\n",
        "  image_train.append(img)\n",
        "\n",
        "  #ADDING DOGS\n",
        "  img = cv2.imread(\"/content/drive/My Drive/Datasets/DLLab3/Dogs/dog.\"+str(i)+\".jpg\", cv2.IMREAD_GRAYSCALE)\n",
        "  img = cv2.resize(img,(500,500))\n",
        "  img = np.array(img)\n",
        "  img = img.flatten()\n",
        "  image_train.append(img)"
      ],
      "execution_count": 107,
      "outputs": []
    },
    {
      "cell_type": "code",
      "metadata": {
        "id": "zx9dqvNFs9nc",
        "colab_type": "code",
        "colab": {}
      },
      "source": [
        "X=np.stack(image_train,axis=0)\n",
        "y=pd.read_excel(\"/content/drive/My Drive/Datasets/DLLab3/output.xlsx\")\n",
        "y=y.iloc[:20,-1].values"
      ],
      "execution_count": 108,
      "outputs": []
    },
    {
      "cell_type": "code",
      "metadata": {
        "id": "1_X4x3vfxHnZ",
        "colab_type": "code",
        "colab": {}
      },
      "source": [
        "y"
      ],
      "execution_count": null,
      "outputs": []
    },
    {
      "cell_type": "code",
      "metadata": {
        "id": "FzKM_roQufAD",
        "colab_type": "code",
        "colab": {}
      },
      "source": [
        "from sklearn.model_selection import train_test_split\n",
        "\n",
        "X_train, X_test, y_train, y_test = train_test_split(X,y,test_size=0.25, random_state = 0)"
      ],
      "execution_count": 109,
      "outputs": []
    },
    {
      "cell_type": "code",
      "metadata": {
        "id": "-SJ07h-nvJPM",
        "colab_type": "code",
        "colab": {
          "base_uri": "https://localhost:8080/",
          "height": 102
        },
        "outputId": "a37e8715-323b-4e9d-ddf9-4993642551ca"
      },
      "source": [
        "from sklearn.linear_model import LogisticRegression\n",
        "\n",
        "model=LogisticRegression()\n",
        "model.fit(X_train,y_train)"
      ],
      "execution_count": 110,
      "outputs": [
        {
          "output_type": "execute_result",
          "data": {
            "text/plain": [
              "LogisticRegression(C=1.0, class_weight=None, dual=False, fit_intercept=True,\n",
              "                   intercept_scaling=1, l1_ratio=None, max_iter=100,\n",
              "                   multi_class='auto', n_jobs=None, penalty='l2',\n",
              "                   random_state=None, solver='lbfgs', tol=0.0001, verbose=0,\n",
              "                   warm_start=False)"
            ]
          },
          "metadata": {
            "tags": []
          },
          "execution_count": 110
        }
      ]
    },
    {
      "cell_type": "code",
      "metadata": {
        "id": "Q6ITS5RGv0D6",
        "colab_type": "code",
        "colab": {}
      },
      "source": [
        "y_pred = model.predict(X_test)"
      ],
      "execution_count": 116,
      "outputs": []
    },
    {
      "cell_type": "code",
      "metadata": {
        "id": "qhkJCtG2wMNF",
        "colab_type": "code",
        "colab": {
          "base_uri": "https://localhost:8080/",
          "height": 34
        },
        "outputId": "38f76d95-f136-492f-df7c-b8ae607e500c"
      },
      "source": [
        "from sklearn.metrics import accuracy_score\n",
        "accuracy_score(y_pred,y_test)"
      ],
      "execution_count": 117,
      "outputs": [
        {
          "output_type": "execute_result",
          "data": {
            "text/plain": [
              "0.8"
            ]
          },
          "metadata": {
            "tags": []
          },
          "execution_count": 117
        }
      ]
    },
    {
      "cell_type": "code",
      "metadata": {
        "id": "OIp66ZKewOax",
        "colab_type": "code",
        "colab": {}
      },
      "source": [
        ""
      ],
      "execution_count": 81,
      "outputs": []
    }
  ]
}