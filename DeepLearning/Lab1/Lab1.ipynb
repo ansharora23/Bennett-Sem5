{
  "nbformat": 4,
  "nbformat_minor": 0,
  "metadata": {
    "colab": {
      "name": "Lab1.ipynb",
      "provenance": []
    },
    "kernelspec": {
      "name": "python3",
      "display_name": "Python 3"
    }
  },
  "cells": [
    {
      "cell_type": "code",
      "metadata": {
        "id": "mLIOvh8CaYIp",
        "colab_type": "code",
        "colab": {}
      },
      "source": [
        "import numpy as np\n",
        "import pandas as pd"
      ],
      "execution_count": 1,
      "outputs": []
    },
    {
      "cell_type": "code",
      "metadata": {
        "id": "uayhHRpfnxcy",
        "colab_type": "code",
        "colab": {
          "base_uri": "https://localhost:8080/",
          "height": 51
        },
        "outputId": "86f2cec7-9e1f-406a-8cf9-0397bf1b0b83"
      },
      "source": [
        "#Random integer\n",
        "arr1=np.random.randint(-100,100,size=(10))\n",
        "print(arr1)\n",
        "print(\"Dimension = \",arr1.ndim)"
      ],
      "execution_count": 9,
      "outputs": [
        {
          "output_type": "stream",
          "text": [
            "[-36  45 -79 -74  10 -97  56 -63  -1  -1]\n",
            "Dimension =  1\n"
          ],
          "name": "stdout"
        }
      ]
    },
    {
      "cell_type": "code",
      "metadata": {
        "id": "mh849PsWoBCV",
        "colab_type": "code",
        "colab": {
          "base_uri": "https://localhost:8080/",
          "height": 85
        },
        "outputId": "35ae5f91-761f-4301-d1de-77891013152e"
      },
      "source": [
        "# Random floats\n",
        "arr2=np.random.sample(size=10)\n",
        "print(arr2)\n",
        "print(\"Dimension = \",arr2.ndim)"
      ],
      "execution_count": 8,
      "outputs": [
        {
          "output_type": "stream",
          "text": [
            "[6.77800521e-01 4.47476039e-01 5.82096666e-02 4.78269915e-01\n",
            " 6.18655577e-04 4.68006431e-01 7.17423922e-01 2.50632421e-01\n",
            " 5.56902332e-01 5.21256697e-01]\n",
            "Dimension =  1\n"
          ],
          "name": "stdout"
        }
      ]
    },
    {
      "cell_type": "code",
      "metadata": {
        "id": "cgBy-334oEsd",
        "colab_type": "code",
        "colab": {
          "base_uri": "https://localhost:8080/",
          "height": 102
        },
        "outputId": "4ab291d2-eaac-4b0b-9f76-bdbf2c977381"
      },
      "source": [
        "# Random complex numbers\n",
        "arr3 = np.random.random(10) + np.random.random(10) * 1j\n",
        "print(arr3)\n",
        "print(\"Dimension = \",arr3.ndim)"
      ],
      "execution_count": 7,
      "outputs": [
        {
          "output_type": "stream",
          "text": [
            "[0.83452572+0.34035511j 0.6241225 +0.10409413j 0.08454265+0.21187205j\n",
            " 0.67369123+0.62204345j 0.7332843 +0.34880129j 0.83063659+0.78395045j\n",
            " 0.43646071+0.37733088j 0.80074565+0.5836597j  0.50038819+0.05113225j\n",
            " 0.88227518+0.04625955j]\n",
            "Dimension =  1\n"
          ],
          "name": "stdout"
        }
      ]
    },
    {
      "cell_type": "code",
      "metadata": {
        "id": "kNo6qgw8orf3",
        "colab_type": "code",
        "colab": {
          "base_uri": "https://localhost:8080/",
          "height": 289
        },
        "outputId": "c4654863-6375-4445-d1f8-53a1a4c599e4"
      },
      "source": [
        "matrix = np.vstack((arr1,arr2,arr3))\n",
        "print(matrix)\n",
        "print(\"Dimension: \",matrix.ndim)"
      ],
      "execution_count": 13,
      "outputs": [
        {
          "output_type": "stream",
          "text": [
            "[[-3.60000000e+01+0.j          4.50000000e+01+0.j\n",
            "  -7.90000000e+01+0.j         -7.40000000e+01+0.j\n",
            "   1.00000000e+01+0.j         -9.70000000e+01+0.j\n",
            "   5.60000000e+01+0.j         -6.30000000e+01+0.j\n",
            "  -1.00000000e+00+0.j         -1.00000000e+00+0.j        ]\n",
            " [ 6.77800521e-01+0.j          4.47476039e-01+0.j\n",
            "   5.82096666e-02+0.j          4.78269915e-01+0.j\n",
            "   6.18655577e-04+0.j          4.68006431e-01+0.j\n",
            "   7.17423922e-01+0.j          2.50632421e-01+0.j\n",
            "   5.56902332e-01+0.j          5.21256697e-01+0.j        ]\n",
            " [ 8.34525724e-01+0.34035511j  6.24122501e-01+0.10409413j\n",
            "   8.45426470e-02+0.21187205j  6.73691233e-01+0.62204345j\n",
            "   7.33284303e-01+0.34880129j  8.30636587e-01+0.78395045j\n",
            "   4.36460710e-01+0.37733088j  8.00745653e-01+0.5836597j\n",
            "   5.00388191e-01+0.05113225j  8.82275177e-01+0.04625955j]]\n",
            "Dimension:  2\n"
          ],
          "name": "stdout"
        }
      ]
    },
    {
      "cell_type": "code",
      "metadata": {
        "id": "AEHMDCGopI-a",
        "colab_type": "code",
        "colab": {}
      },
      "source": [
        "m1=np.matrix('1 2 3;4 5 6;7 8 9')\n",
        "m2=np.matrix('4 5 6;7 8 9;1 2 3')"
      ],
      "execution_count": 14,
      "outputs": []
    },
    {
      "cell_type": "code",
      "metadata": {
        "id": "9a19uOuxtPNM",
        "colab_type": "code",
        "colab": {
          "base_uri": "https://localhost:8080/",
          "height": 68
        },
        "outputId": "d7c4d6f3-a235-4bd6-c544-10863edf4625"
      },
      "source": [
        "print(m1+m2)"
      ],
      "execution_count": 15,
      "outputs": [
        {
          "output_type": "stream",
          "text": [
            "[[ 5  7  9]\n",
            " [11 13 15]\n",
            " [ 8 10 12]]\n"
          ],
          "name": "stdout"
        }
      ]
    },
    {
      "cell_type": "code",
      "metadata": {
        "id": "O981vQuBtRkb",
        "colab_type": "code",
        "colab": {
          "base_uri": "https://localhost:8080/",
          "height": 68
        },
        "outputId": "09577a52-6d74-453f-c07e-37a1a1dd92c2"
      },
      "source": [
        "m1.T"
      ],
      "execution_count": 16,
      "outputs": [
        {
          "output_type": "execute_result",
          "data": {
            "text/plain": [
              "matrix([[1, 4, 7],\n",
              "        [2, 5, 8],\n",
              "        [3, 6, 9]])"
            ]
          },
          "metadata": {
            "tags": []
          },
          "execution_count": 16
        }
      ]
    },
    {
      "cell_type": "code",
      "metadata": {
        "id": "J3BlGhfitV1F",
        "colab_type": "code",
        "colab": {
          "base_uri": "https://localhost:8080/",
          "height": 68
        },
        "outputId": "ee4f59ca-919c-48ea-8445-8d54de0a7078"
      },
      "source": [
        "m1.dot(m2)"
      ],
      "execution_count": 17,
      "outputs": [
        {
          "output_type": "execute_result",
          "data": {
            "text/plain": [
              "matrix([[ 21,  27,  33],\n",
              "        [ 57,  72,  87],\n",
              "        [ 93, 117, 141]])"
            ]
          },
          "metadata": {
            "tags": []
          },
          "execution_count": 17
        }
      ]
    },
    {
      "cell_type": "code",
      "metadata": {
        "id": "gNqmMKXvtYtG",
        "colab_type": "code",
        "colab": {
          "base_uri": "https://localhost:8080/",
          "height": 68
        },
        "outputId": "dda876c2-eb87-43e8-924e-d5bd06970a7d"
      },
      "source": [
        "np.multiply(m1,m2)"
      ],
      "execution_count": 18,
      "outputs": [
        {
          "output_type": "execute_result",
          "data": {
            "text/plain": [
              "matrix([[ 4, 10, 18],\n",
              "        [28, 40, 54],\n",
              "        [ 7, 16, 27]])"
            ]
          },
          "metadata": {
            "tags": []
          },
          "execution_count": 18
        }
      ]
    },
    {
      "cell_type": "code",
      "metadata": {
        "id": "EJooSdxntdq-",
        "colab_type": "code",
        "colab": {
          "base_uri": "https://localhost:8080/",
          "height": 51
        },
        "outputId": "330f2ceb-653c-4843-867b-1f216158ace7"
      },
      "source": [
        "#Slicing\n",
        "print(arr1[2:5])\n",
        "#reversing array\n",
        "print(arr1[::-1])"
      ],
      "execution_count": 20,
      "outputs": [
        {
          "output_type": "stream",
          "text": [
            "[-79 -74  10]\n",
            "[ -1  -1 -63  56 -97  10 -74 -79  45 -36]\n"
          ],
          "name": "stdout"
        }
      ]
    },
    {
      "cell_type": "code",
      "metadata": {
        "id": "vUO4qPQVtx_3",
        "colab_type": "code",
        "colab": {}
      },
      "source": [
        "df=pd.read_excel('https://github.com/ansharora23/Bennett-Sem5/blob/master/DeepLearning/Lab2/Data/Online%20Retail.xlsx?raw=true')\n",
        "df=df[:100]"
      ],
      "execution_count": 21,
      "outputs": []
    },
    {
      "cell_type": "code",
      "metadata": {
        "id": "SvQDeT0mvfXc",
        "colab_type": "code",
        "colab": {
          "base_uri": "https://localhost:8080/",
          "height": 1000
        },
        "outputId": "56af1e9c-bb79-45f0-b609-089dee3a0de5"
      },
      "source": [
        "arr = df.values\n",
        "arr"
      ],
      "execution_count": 23,
      "outputs": [
        {
          "output_type": "execute_result",
          "data": {
            "text/plain": [
              "array([[536365, '85123A', 'WHITE HANGING HEART T-LIGHT HOLDER', 6,\n",
              "        Timestamp('2010-12-01 08:26:00'), 2.55, 17850.0,\n",
              "        'United Kingdom'],\n",
              "       [536365, 71053, 'WHITE METAL LANTERN', 6,\n",
              "        Timestamp('2010-12-01 08:26:00'), 3.39, 17850.0,\n",
              "        'United Kingdom'],\n",
              "       [536365, '84406B', 'CREAM CUPID HEARTS COAT HANGER', 8,\n",
              "        Timestamp('2010-12-01 08:26:00'), 2.75, 17850.0,\n",
              "        'United Kingdom'],\n",
              "       [536365, '84029G', 'KNITTED UNION FLAG HOT WATER BOTTLE', 6,\n",
              "        Timestamp('2010-12-01 08:26:00'), 3.39, 17850.0,\n",
              "        'United Kingdom'],\n",
              "       [536365, '84029E', 'RED WOOLLY HOTTIE WHITE HEART.', 6,\n",
              "        Timestamp('2010-12-01 08:26:00'), 3.39, 17850.0,\n",
              "        'United Kingdom'],\n",
              "       [536365, 22752, 'SET 7 BABUSHKA NESTING BOXES', 2,\n",
              "        Timestamp('2010-12-01 08:26:00'), 7.65, 17850.0,\n",
              "        'United Kingdom'],\n",
              "       [536365, 21730, 'GLASS STAR FROSTED T-LIGHT HOLDER', 6,\n",
              "        Timestamp('2010-12-01 08:26:00'), 4.25, 17850.0,\n",
              "        'United Kingdom'],\n",
              "       [536366, 22633, 'HAND WARMER UNION JACK', 6,\n",
              "        Timestamp('2010-12-01 08:28:00'), 1.85, 17850.0,\n",
              "        'United Kingdom'],\n",
              "       [536366, 22632, 'HAND WARMER RED POLKA DOT', 6,\n",
              "        Timestamp('2010-12-01 08:28:00'), 1.85, 17850.0,\n",
              "        'United Kingdom'],\n",
              "       [536367, 84879, 'ASSORTED COLOUR BIRD ORNAMENT', 32,\n",
              "        Timestamp('2010-12-01 08:34:00'), 1.69, 13047.0,\n",
              "        'United Kingdom'],\n",
              "       [536367, 22745, \"POPPY'S PLAYHOUSE BEDROOM \", 6,\n",
              "        Timestamp('2010-12-01 08:34:00'), 2.1, 13047.0, 'United Kingdom'],\n",
              "       [536367, 22748, \"POPPY'S PLAYHOUSE KITCHEN\", 6,\n",
              "        Timestamp('2010-12-01 08:34:00'), 2.1, 13047.0, 'United Kingdom'],\n",
              "       [536367, 22749, 'FELTCRAFT PRINCESS CHARLOTTE DOLL', 8,\n",
              "        Timestamp('2010-12-01 08:34:00'), 3.75, 13047.0,\n",
              "        'United Kingdom'],\n",
              "       [536367, 22310, 'IVORY KNITTED MUG COSY ', 6,\n",
              "        Timestamp('2010-12-01 08:34:00'), 1.65, 13047.0,\n",
              "        'United Kingdom'],\n",
              "       [536367, 84969, 'BOX OF 6 ASSORTED COLOUR TEASPOONS', 6,\n",
              "        Timestamp('2010-12-01 08:34:00'), 4.25, 13047.0,\n",
              "        'United Kingdom'],\n",
              "       [536367, 22623, 'BOX OF VINTAGE JIGSAW BLOCKS ', 3,\n",
              "        Timestamp('2010-12-01 08:34:00'), 4.95, 13047.0,\n",
              "        'United Kingdom'],\n",
              "       [536367, 22622, 'BOX OF VINTAGE ALPHABET BLOCKS', 2,\n",
              "        Timestamp('2010-12-01 08:34:00'), 9.95, 13047.0,\n",
              "        'United Kingdom'],\n",
              "       [536367, 21754, 'HOME BUILDING BLOCK WORD', 3,\n",
              "        Timestamp('2010-12-01 08:34:00'), 5.95, 13047.0,\n",
              "        'United Kingdom'],\n",
              "       [536367, 21755, 'LOVE BUILDING BLOCK WORD', 3,\n",
              "        Timestamp('2010-12-01 08:34:00'), 5.95, 13047.0,\n",
              "        'United Kingdom'],\n",
              "       [536367, 21777, 'RECIPE BOX WITH METAL HEART', 4,\n",
              "        Timestamp('2010-12-01 08:34:00'), 7.95, 13047.0,\n",
              "        'United Kingdom'],\n",
              "       [536367, 48187, 'DOORMAT NEW ENGLAND', 4,\n",
              "        Timestamp('2010-12-01 08:34:00'), 7.95, 13047.0,\n",
              "        'United Kingdom'],\n",
              "       [536368, 22960, 'JAM MAKING SET WITH JARS', 6,\n",
              "        Timestamp('2010-12-01 08:34:00'), 4.25, 13047.0,\n",
              "        'United Kingdom'],\n",
              "       [536368, 22913, 'RED COAT RACK PARIS FASHION', 3,\n",
              "        Timestamp('2010-12-01 08:34:00'), 4.95, 13047.0,\n",
              "        'United Kingdom'],\n",
              "       [536368, 22912, 'YELLOW COAT RACK PARIS FASHION', 3,\n",
              "        Timestamp('2010-12-01 08:34:00'), 4.95, 13047.0,\n",
              "        'United Kingdom'],\n",
              "       [536368, 22914, 'BLUE COAT RACK PARIS FASHION', 3,\n",
              "        Timestamp('2010-12-01 08:34:00'), 4.95, 13047.0,\n",
              "        'United Kingdom'],\n",
              "       [536369, 21756, 'BATH BUILDING BLOCK WORD', 3,\n",
              "        Timestamp('2010-12-01 08:35:00'), 5.95, 13047.0,\n",
              "        'United Kingdom'],\n",
              "       [536370, 22728, 'ALARM CLOCK BAKELIKE PINK', 24,\n",
              "        Timestamp('2010-12-01 08:45:00'), 3.75, 12583.0, 'France'],\n",
              "       [536370, 22727, 'ALARM CLOCK BAKELIKE RED ', 24,\n",
              "        Timestamp('2010-12-01 08:45:00'), 3.75, 12583.0, 'France'],\n",
              "       [536370, 22726, 'ALARM CLOCK BAKELIKE GREEN', 12,\n",
              "        Timestamp('2010-12-01 08:45:00'), 3.75, 12583.0, 'France'],\n",
              "       [536370, 21724, 'PANDA AND BUNNIES STICKER SHEET', 12,\n",
              "        Timestamp('2010-12-01 08:45:00'), 0.85, 12583.0, 'France'],\n",
              "       [536370, 21883, 'STARS GIFT TAPE ', 24,\n",
              "        Timestamp('2010-12-01 08:45:00'), 0.65, 12583.0, 'France'],\n",
              "       [536370, 10002, 'INFLATABLE POLITICAL GLOBE ', 48,\n",
              "        Timestamp('2010-12-01 08:45:00'), 0.85, 12583.0, 'France'],\n",
              "       [536370, 21791, 'VINTAGE HEADS AND TAILS CARD GAME ', 24,\n",
              "        Timestamp('2010-12-01 08:45:00'), 1.25, 12583.0, 'France'],\n",
              "       [536370, 21035, 'SET/2 RED RETROSPOT TEA TOWELS ', 18,\n",
              "        Timestamp('2010-12-01 08:45:00'), 2.95, 12583.0, 'France'],\n",
              "       [536370, 22326, 'ROUND SNACK BOXES SET OF4 WOODLAND ', 24,\n",
              "        Timestamp('2010-12-01 08:45:00'), 2.95, 12583.0, 'France'],\n",
              "       [536370, 22629, 'SPACEBOY LUNCH BOX ', 24,\n",
              "        Timestamp('2010-12-01 08:45:00'), 1.95, 12583.0, 'France'],\n",
              "       [536370, 22659, 'LUNCH BOX I LOVE LONDON', 24,\n",
              "        Timestamp('2010-12-01 08:45:00'), 1.95, 12583.0, 'France'],\n",
              "       [536370, 22631, 'CIRCUS PARADE LUNCH BOX ', 24,\n",
              "        Timestamp('2010-12-01 08:45:00'), 1.95, 12583.0, 'France'],\n",
              "       [536370, 22661, 'CHARLOTTE BAG DOLLY GIRL DESIGN', 20,\n",
              "        Timestamp('2010-12-01 08:45:00'), 0.85, 12583.0, 'France'],\n",
              "       [536370, 21731, 'RED TOADSTOOL LED NIGHT LIGHT', 24,\n",
              "        Timestamp('2010-12-01 08:45:00'), 1.65, 12583.0, 'France'],\n",
              "       [536370, 22900, ' SET 2 TEA TOWELS I LOVE LONDON ', 24,\n",
              "        Timestamp('2010-12-01 08:45:00'), 2.95, 12583.0, 'France'],\n",
              "       [536370, 21913, 'VINTAGE SEASIDE JIGSAW PUZZLES', 12,\n",
              "        Timestamp('2010-12-01 08:45:00'), 3.75, 12583.0, 'France'],\n",
              "       [536370, 22540, 'MINI JIGSAW CIRCUS PARADE ', 24,\n",
              "        Timestamp('2010-12-01 08:45:00'), 0.42, 12583.0, 'France'],\n",
              "       [536370, 22544, 'MINI JIGSAW SPACEBOY', 24,\n",
              "        Timestamp('2010-12-01 08:45:00'), 0.42, 12583.0, 'France'],\n",
              "       [536370, 22492, 'MINI PAINT SET VINTAGE ', 36,\n",
              "        Timestamp('2010-12-01 08:45:00'), 0.65, 12583.0, 'France'],\n",
              "       [536370, 'POST', 'POSTAGE', 3, Timestamp('2010-12-01 08:45:00'),\n",
              "        18.0, 12583.0, 'France'],\n",
              "       [536371, 22086, \"PAPER CHAIN KIT 50'S CHRISTMAS \", 80,\n",
              "        Timestamp('2010-12-01 09:00:00'), 2.55, 13748.0,\n",
              "        'United Kingdom'],\n",
              "       [536372, 22632, 'HAND WARMER RED POLKA DOT', 6,\n",
              "        Timestamp('2010-12-01 09:01:00'), 1.85, 17850.0,\n",
              "        'United Kingdom'],\n",
              "       [536372, 22633, 'HAND WARMER UNION JACK', 6,\n",
              "        Timestamp('2010-12-01 09:01:00'), 1.85, 17850.0,\n",
              "        'United Kingdom'],\n",
              "       [536373, '85123A', 'WHITE HANGING HEART T-LIGHT HOLDER', 6,\n",
              "        Timestamp('2010-12-01 09:02:00'), 2.55, 17850.0,\n",
              "        'United Kingdom'],\n",
              "       [536373, 71053, 'WHITE METAL LANTERN', 6,\n",
              "        Timestamp('2010-12-01 09:02:00'), 3.39, 17850.0,\n",
              "        'United Kingdom'],\n",
              "       [536373, '84406B', 'CREAM CUPID HEARTS COAT HANGER', 8,\n",
              "        Timestamp('2010-12-01 09:02:00'), 2.75, 17850.0,\n",
              "        'United Kingdom'],\n",
              "       [536373, 20679, 'EDWARDIAN PARASOL RED', 6,\n",
              "        Timestamp('2010-12-01 09:02:00'), 4.95, 17850.0,\n",
              "        'United Kingdom'],\n",
              "       [536373, 37370, 'RETRO COFFEE MUGS ASSORTED', 6,\n",
              "        Timestamp('2010-12-01 09:02:00'), 1.06, 17850.0,\n",
              "        'United Kingdom'],\n",
              "       [536373, 21871, 'SAVE THE PLANET MUG', 6,\n",
              "        Timestamp('2010-12-01 09:02:00'), 1.06, 17850.0,\n",
              "        'United Kingdom'],\n",
              "       [536373, 21071, 'VINTAGE BILLBOARD DRINK ME MUG', 6,\n",
              "        Timestamp('2010-12-01 09:02:00'), 1.06, 17850.0,\n",
              "        'United Kingdom'],\n",
              "       [536373, 21068, 'VINTAGE BILLBOARD LOVE/HATE MUG', 6,\n",
              "        Timestamp('2010-12-01 09:02:00'), 1.06, 17850.0,\n",
              "        'United Kingdom'],\n",
              "       [536373, 82483, 'WOOD 2 DRAWER CABINET WHITE FINISH', 2,\n",
              "        Timestamp('2010-12-01 09:02:00'), 4.95, 17850.0,\n",
              "        'United Kingdom'],\n",
              "       [536373, 82486, 'WOOD S/3 CABINET ANT WHITE FINISH', 4,\n",
              "        Timestamp('2010-12-01 09:02:00'), 6.95, 17850.0,\n",
              "        'United Kingdom'],\n",
              "       [536373, 82482, 'WOODEN PICTURE FRAME WHITE FINISH', 6,\n",
              "        Timestamp('2010-12-01 09:02:00'), 2.1, 17850.0, 'United Kingdom'],\n",
              "       [536373, '82494L', 'WOODEN FRAME ANTIQUE WHITE ', 6,\n",
              "        Timestamp('2010-12-01 09:02:00'), 2.55, 17850.0,\n",
              "        'United Kingdom'],\n",
              "       [536373, '84029G', 'KNITTED UNION FLAG HOT WATER BOTTLE', 6,\n",
              "        Timestamp('2010-12-01 09:02:00'), 3.39, 17850.0,\n",
              "        'United Kingdom'],\n",
              "       [536373, '84029E', 'RED WOOLLY HOTTIE WHITE HEART.', 6,\n",
              "        Timestamp('2010-12-01 09:02:00'), 3.39, 17850.0,\n",
              "        'United Kingdom'],\n",
              "       [536373, 22752, 'SET 7 BABUSHKA NESTING BOXES', 2,\n",
              "        Timestamp('2010-12-01 09:02:00'), 7.65, 17850.0,\n",
              "        'United Kingdom'],\n",
              "       [536373, 21730, 'GLASS STAR FROSTED T-LIGHT HOLDER', 6,\n",
              "        Timestamp('2010-12-01 09:02:00'), 4.25, 17850.0,\n",
              "        'United Kingdom'],\n",
              "       [536374, 21258, 'VICTORIAN SEWING BOX LARGE', 32,\n",
              "        Timestamp('2010-12-01 09:09:00'), 10.95, 15100.0,\n",
              "        'United Kingdom'],\n",
              "       [536375, '85123A', 'WHITE HANGING HEART T-LIGHT HOLDER', 6,\n",
              "        Timestamp('2010-12-01 09:32:00'), 2.55, 17850.0,\n",
              "        'United Kingdom'],\n",
              "       [536375, 71053, 'WHITE METAL LANTERN', 6,\n",
              "        Timestamp('2010-12-01 09:32:00'), 3.39, 17850.0,\n",
              "        'United Kingdom'],\n",
              "       [536375, '84406B', 'CREAM CUPID HEARTS COAT HANGER', 8,\n",
              "        Timestamp('2010-12-01 09:32:00'), 2.75, 17850.0,\n",
              "        'United Kingdom'],\n",
              "       [536375, 20679, 'EDWARDIAN PARASOL RED', 6,\n",
              "        Timestamp('2010-12-01 09:32:00'), 4.95, 17850.0,\n",
              "        'United Kingdom'],\n",
              "       [536375, 37370, 'RETRO COFFEE MUGS ASSORTED', 6,\n",
              "        Timestamp('2010-12-01 09:32:00'), 1.06, 17850.0,\n",
              "        'United Kingdom'],\n",
              "       [536375, 21871, 'SAVE THE PLANET MUG', 6,\n",
              "        Timestamp('2010-12-01 09:32:00'), 1.06, 17850.0,\n",
              "        'United Kingdom'],\n",
              "       [536375, 21071, 'VINTAGE BILLBOARD DRINK ME MUG', 6,\n",
              "        Timestamp('2010-12-01 09:32:00'), 1.06, 17850.0,\n",
              "        'United Kingdom'],\n",
              "       [536375, 21068, 'VINTAGE BILLBOARD LOVE/HATE MUG', 6,\n",
              "        Timestamp('2010-12-01 09:32:00'), 1.06, 17850.0,\n",
              "        'United Kingdom'],\n",
              "       [536375, 82483, 'WOOD 2 DRAWER CABINET WHITE FINISH', 2,\n",
              "        Timestamp('2010-12-01 09:32:00'), 4.95, 17850.0,\n",
              "        'United Kingdom'],\n",
              "       [536375, 82486, 'WOOD S/3 CABINET ANT WHITE FINISH', 4,\n",
              "        Timestamp('2010-12-01 09:32:00'), 6.95, 17850.0,\n",
              "        'United Kingdom'],\n",
              "       [536375, 82482, 'WOODEN PICTURE FRAME WHITE FINISH', 6,\n",
              "        Timestamp('2010-12-01 09:32:00'), 2.1, 17850.0, 'United Kingdom'],\n",
              "       [536375, '82494L', 'WOODEN FRAME ANTIQUE WHITE ', 6,\n",
              "        Timestamp('2010-12-01 09:32:00'), 2.55, 17850.0,\n",
              "        'United Kingdom'],\n",
              "       [536375, '84029G', 'KNITTED UNION FLAG HOT WATER BOTTLE', 6,\n",
              "        Timestamp('2010-12-01 09:32:00'), 3.39, 17850.0,\n",
              "        'United Kingdom'],\n",
              "       [536375, '84029E', 'RED WOOLLY HOTTIE WHITE HEART.', 6,\n",
              "        Timestamp('2010-12-01 09:32:00'), 3.39, 17850.0,\n",
              "        'United Kingdom'],\n",
              "       [536375, 22752, 'SET 7 BABUSHKA NESTING BOXES', 2,\n",
              "        Timestamp('2010-12-01 09:32:00'), 7.65, 17850.0,\n",
              "        'United Kingdom'],\n",
              "       [536375, 21730, 'GLASS STAR FROSTED T-LIGHT HOLDER', 6,\n",
              "        Timestamp('2010-12-01 09:32:00'), 4.25, 17850.0,\n",
              "        'United Kingdom'],\n",
              "       [536376, 22114, 'HOT WATER BOTTLE TEA AND SYMPATHY', 48,\n",
              "        Timestamp('2010-12-01 09:32:00'), 3.45, 15291.0,\n",
              "        'United Kingdom'],\n",
              "       [536376, 21733, 'RED HANGING HEART T-LIGHT HOLDER', 64,\n",
              "        Timestamp('2010-12-01 09:32:00'), 2.55, 15291.0,\n",
              "        'United Kingdom'],\n",
              "       [536377, 22632, 'HAND WARMER RED POLKA DOT', 6,\n",
              "        Timestamp('2010-12-01 09:34:00'), 1.85, 17850.0,\n",
              "        'United Kingdom'],\n",
              "       [536377, 22633, 'HAND WARMER UNION JACK', 6,\n",
              "        Timestamp('2010-12-01 09:34:00'), 1.85, 17850.0,\n",
              "        'United Kingdom'],\n",
              "       [536378, 22386, 'JUMBO BAG PINK POLKADOT', 10,\n",
              "        Timestamp('2010-12-01 09:37:00'), 1.95, 14688.0,\n",
              "        'United Kingdom'],\n",
              "       [536378, '85099C', 'JUMBO  BAG BAROQUE BLACK WHITE', 10,\n",
              "        Timestamp('2010-12-01 09:37:00'), 1.95, 14688.0,\n",
              "        'United Kingdom'],\n",
              "       [536378, 21033, 'JUMBO BAG CHARLIE AND LOLA TOYS', 10,\n",
              "        Timestamp('2010-12-01 09:37:00'), 2.95, 14688.0,\n",
              "        'United Kingdom'],\n",
              "       [536378, 20723, 'STRAWBERRY CHARLOTTE BAG', 10,\n",
              "        Timestamp('2010-12-01 09:37:00'), 0.85, 14688.0,\n",
              "        'United Kingdom'],\n",
              "       [536378, '84997B', 'RED 3 PIECE RETROSPOT CUTLERY SET', 12,\n",
              "        Timestamp('2010-12-01 09:37:00'), 3.75, 14688.0,\n",
              "        'United Kingdom'],\n",
              "       [536378, '84997C', 'BLUE 3 PIECE POLKADOT CUTLERY SET', 6,\n",
              "        Timestamp('2010-12-01 09:37:00'), 3.75, 14688.0,\n",
              "        'United Kingdom'],\n",
              "       [536378, 21094, 'SET/6 RED SPOTTY PAPER PLATES', 12,\n",
              "        Timestamp('2010-12-01 09:37:00'), 0.85, 14688.0,\n",
              "        'United Kingdom'],\n",
              "       [536378, 20725, 'LUNCH BAG RED RETROSPOT', 10,\n",
              "        Timestamp('2010-12-01 09:37:00'), 1.65, 14688.0,\n",
              "        'United Kingdom'],\n",
              "       [536378, 21559, 'STRAWBERRY LUNCH BOX WITH CUTLERY', 6,\n",
              "        Timestamp('2010-12-01 09:37:00'), 2.55, 14688.0,\n",
              "        'United Kingdom'],\n",
              "       [536378, 22352, 'LUNCH BOX WITH CUTLERY RETROSPOT ', 6,\n",
              "        Timestamp('2010-12-01 09:37:00'), 2.55, 14688.0,\n",
              "        'United Kingdom'],\n",
              "       [536378, 21212, 'PACK OF 72 RETROSPOT CAKE CASES', 120,\n",
              "        Timestamp('2010-12-01 09:37:00'), 0.42, 14688.0,\n",
              "        'United Kingdom'],\n",
              "       [536378, 21975, 'PACK OF 60 DINOSAUR CAKE CASES', 24,\n",
              "        Timestamp('2010-12-01 09:37:00'), 0.55, 14688.0,\n",
              "        'United Kingdom'],\n",
              "       [536378, 21977, 'PACK OF 60 PINK PAISLEY CAKE CASES', 24,\n",
              "        Timestamp('2010-12-01 09:37:00'), 0.55, 14688.0,\n",
              "        'United Kingdom'],\n",
              "       [536378, 84991, '60 TEATIME FAIRY CAKE CASES', 24,\n",
              "        Timestamp('2010-12-01 09:37:00'), 0.55, 14688.0,\n",
              "        'United Kingdom']], dtype=object)"
            ]
          },
          "metadata": {
            "tags": []
          },
          "execution_count": 23
        }
      ]
    },
    {
      "cell_type": "code",
      "metadata": {
        "id": "VWQSbPdmv4or",
        "colab_type": "code",
        "colab": {}
      },
      "source": [
        ""
      ],
      "execution_count": null,
      "outputs": []
    }
  ]
}