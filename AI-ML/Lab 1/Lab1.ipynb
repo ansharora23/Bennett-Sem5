{
  "nbformat": 4,
  "nbformat_minor": 0,
  "metadata": {
    "colab": {
      "name": "Lab1.ipynb",
      "provenance": [],
      "collapsed_sections": []
    },
    "kernelspec": {
      "name": "python3",
      "display_name": "Python 3"
    }
  },
  "cells": [
    {
      "cell_type": "code",
      "metadata": {
        "id": "bjH7dHd4bhP7",
        "colab_type": "code",
        "colab": {}
      },
      "source": [
        "#\n",
        "#Drive usage:/content/drive/My Drive/AI-ML/Lab1/ \n",
        "#"
      ],
      "execution_count": null,
      "outputs": []
    },
    {
      "cell_type": "code",
      "metadata": {
        "id": "TRTOeIpCkcOi",
        "colab_type": "code",
        "colab": {}
      },
      "source": [
        "!pip install pydicom"
      ],
      "execution_count": null,
      "outputs": []
    },
    {
      "cell_type": "code",
      "metadata": {
        "id": "xUxcA5zj4qlO",
        "colab_type": "code",
        "colab": {}
      },
      "source": [
        "!pip install playsound"
      ],
      "execution_count": null,
      "outputs": []
    },
    {
      "cell_type": "code",
      "metadata": {
        "id": "VGSFJUi7U_uG",
        "colab_type": "code",
        "colab": {}
      },
      "source": [
        "!pip install PyPDF2"
      ],
      "execution_count": null,
      "outputs": []
    },
    {
      "cell_type": "code",
      "metadata": {
        "id": "3NsBjhBM-Fha",
        "colab_type": "code",
        "colab": {}
      },
      "source": [
        "!pip install lxml"
      ],
      "execution_count": null,
      "outputs": []
    },
    {
      "cell_type": "code",
      "metadata": {
        "id": "HAde2Hd5EDoh",
        "colab_type": "code",
        "colab": {}
      },
      "source": [
        "import pandas as pd\n",
        "import matplotlib.pyplot as plt\n",
        "import numpy as np\n",
        "import pickle as pk\n",
        "import time\n",
        "import cv2\n",
        "\n"
      ],
      "execution_count": null,
      "outputs": []
    },
    {
      "cell_type": "code",
      "metadata": {
        "id": "X2LUSACu-LZ-",
        "colab_type": "code",
        "colab": {}
      },
      "source": [
        "url = 'https://raw.githubusercontent.com/DeepConnectAI/challenge-week-1/master/data/structured_data/data.csv'\n",
        "df = pd.read_csv(url)\n",
        "df\n",
        "\n"
      ],
      "execution_count": null,
      "outputs": []
    },
    {
      "cell_type": "code",
      "metadata": {
        "id": "KkrQNvQkEOoB",
        "colab_type": "code",
        "colab": {}
      },
      "source": [
        "df = df.dropna()\n",
        "df"
      ],
      "execution_count": null,
      "outputs": []
    },
    {
      "cell_type": "code",
      "metadata": {
        "id": "kuI8wSq_Fxdj",
        "colab_type": "code",
        "colab": {}
      },
      "source": [
        "#Shape of dataframe\n",
        "df.shape"
      ],
      "execution_count": null,
      "outputs": []
    },
    {
      "cell_type": "code",
      "metadata": {
        "id": "M0EM_WRMGPbw",
        "colab_type": "code",
        "colab": {}
      },
      "source": [
        "df.info()"
      ],
      "execution_count": null,
      "outputs": []
    },
    {
      "cell_type": "code",
      "metadata": {
        "id": "9WP2-Y9RGRER",
        "colab_type": "code",
        "colab": {}
      },
      "source": [
        "df.ndim"
      ],
      "execution_count": null,
      "outputs": []
    },
    {
      "cell_type": "code",
      "metadata": {
        "id": "sIMERLp7GTFD",
        "colab_type": "code",
        "colab": {}
      },
      "source": [
        "print(\"Rows: \" , len(df))\n",
        "print(\"Columns: \", len(df.columns))"
      ],
      "execution_count": null,
      "outputs": []
    },
    {
      "cell_type": "code",
      "metadata": {
        "id": "FTMDxBa_Gyni",
        "colab_type": "code",
        "colab": {}
      },
      "source": [
        "df.transpose()"
      ],
      "execution_count": null,
      "outputs": []
    },
    {
      "cell_type": "code",
      "metadata": {
        "id": "-jmddG1CH1sC",
        "colab_type": "code",
        "colab": {}
      },
      "source": [
        ""
      ],
      "execution_count": null,
      "outputs": []
    },
    {
      "cell_type": "code",
      "metadata": {
        "id": "O1ndMb0GH64z",
        "colab_type": "code",
        "colab": {}
      },
      "source": [
        "df_slice = pd.DataFrame(df, columns = ['Age', 'Salary'])\n",
        "df_slice"
      ],
      "execution_count": null,
      "outputs": []
    },
    {
      "cell_type": "code",
      "metadata": {
        "id": "M9pdMZHhJlM-",
        "colab_type": "code",
        "colab": {}
      },
      "source": [
        "df_slice = df_slice.dropna()\n",
        "df_slice"
      ],
      "execution_count": null,
      "outputs": []
    },
    {
      "cell_type": "code",
      "metadata": {
        "id": "lRbXKowHWGxT",
        "colab_type": "code",
        "colab": {}
      },
      "source": [
        "# Transpose\n",
        "df_transposed = df_slice.T"
      ],
      "execution_count": null,
      "outputs": []
    },
    {
      "cell_type": "code",
      "metadata": {
        "id": "Q9JSvDsGRsM2",
        "colab_type": "code",
        "colab": {}
      },
      "source": [
        "# Dot product\n",
        "\n",
        "dot_product = np.dot(df_slice.values,df_transposed.values)"
      ],
      "execution_count": null,
      "outputs": []
    },
    {
      "cell_type": "code",
      "metadata": {
        "id": "PlJY_4arKX7D",
        "colab_type": "code",
        "colab": {}
      },
      "source": [
        "# Inverse values\n",
        "inverse = np.linalg.pinv(df_slice.values)"
      ],
      "execution_count": null,
      "outputs": []
    },
    {
      "cell_type": "code",
      "metadata": {
        "id": "GHF4TWp0RPxs",
        "colab_type": "code",
        "colab": {}
      },
      "source": [
        "#Linegraph\n",
        "plt.plot(df.Salary)\n",
        "plt.savefig(\"linegraph.png\")"
      ],
      "execution_count": null,
      "outputs": []
    },
    {
      "cell_type": "code",
      "metadata": {
        "id": "OXkN27iES1L2",
        "colab_type": "code",
        "colab": {}
      },
      "source": [
        "#Histogram\n",
        "df.Salary.plot(kind='hist')\n",
        "plt.show()\n",
        "plt.savefig(\"histogram.png\")"
      ],
      "execution_count": null,
      "outputs": []
    },
    {
      "cell_type": "code",
      "metadata": {
        "id": "wyx0cBVuS1J4",
        "colab_type": "code",
        "colab": {}
      },
      "source": [
        "#Scatter chart\n",
        "plt.scatter(df.Salary,df.Age)\n",
        "plt.savefig(\"scatterplot.png\")"
      ],
      "execution_count": null,
      "outputs": []
    },
    {
      "cell_type": "code",
      "metadata": {
        "id": "3jHTKmlXLU7A",
        "colab_type": "code",
        "colab": {}
      },
      "source": [
        "#Using pickle\n",
        "\n",
        "pk.dump(df.values, open(\"/content/drive/My Drive/AI-ML/Lab1/df.pkl\", \"wb\"))\n",
        "pk.dump(dot_product, open(\"/content/drive/My Drive/AI-ML/Lab1/dot_product.pkl\", \"wb\"))\n",
        "pk.dump(inverse, open(\"/content/drive/My Drive/AI-ML/Lab1/inverse.pkl\", \"wb\"))"
      ],
      "execution_count": null,
      "outputs": []
    },
    {
      "cell_type": "code",
      "metadata": {
        "id": "3ie4FQXVdSdu",
        "colab_type": "code",
        "colab": {}
      },
      "source": [
        "import matplotlib.image as mpimg \n",
        "import matplotlib.pyplot as plt \n",
        "start_time = time.time()\n",
        "\n",
        "jpg1 = mpimg.imread('/content/drive/My Drive/AI-ML/Lab1/tiff.tiff')\n",
        "\n",
        "plt.imshow(jpg1)\n",
        "print(\"My program took\", time.time() - start_time, \"to run\")"
      ],
      "execution_count": null,
      "outputs": []
    },
    {
      "cell_type": "code",
      "metadata": {
        "id": "JrkLI0pumL7x",
        "colab_type": "code",
        "colab": {}
      },
      "source": [
        "print(jpg1.shape)"
      ],
      "execution_count": null,
      "outputs": []
    },
    {
      "cell_type": "code",
      "metadata": {
        "id": "QxkMpWh4hEdm",
        "colab_type": "code",
        "colab": {}
      },
      "source": [
        "from google.colab.patches import cv2_imshow\n",
        "start_time = time.time()\n",
        "img = cv2.imread('/content/drive/My Drive/AI-ML/Lab1/bmp.bmp')\n",
        "cv2_imshow(img)\n",
        "ret, bw_img = cv2.threshold(img,128,255,cv2.THRESH_BINARY)\n",
        "img_grey = cv2.imread('/content/drive/My Drive/AI-ML/Lab1/bmp.bmp', cv2.IMREAD_GRAYSCALE)\n",
        "cv2_imshow(bw_img)\n",
        "cv2_imshow(img_grey)\n",
        "cv2.waitKey(0)\n",
        "cv2.destroyAllWindows()\n",
        "\n",
        "\n",
        "print(\"My program took\", time.time() - start_time, \"to run\")"
      ],
      "execution_count": null,
      "outputs": []
    },
    {
      "cell_type": "code",
      "metadata": {
        "id": "-BW7dVh_kWIh",
        "colab_type": "code",
        "colab": {}
      },
      "source": [
        "start_time = time.time()\n",
        "from PIL import Image\n",
        "img = Image.open('/content/drive/My Drive/AI-ML/Lab1/png.png')\n",
        "display(img)\n",
        "print(img)\n",
        "width,height = img.size\n",
        "left = 5\n",
        "top = height / 4\n",
        "right = 164\n",
        "bottom = 3 * height / 4\n",
        "im1 = img.crop((left, top, right, bottom)) \n",
        "display(im1)\n",
        "print(\"My program took\", time.time() - start_time, \"to run\")"
      ],
      "execution_count": null,
      "outputs": []
    },
    {
      "cell_type": "code",
      "metadata": {
        "id": "pKlmOE26lUwu",
        "colab_type": "code",
        "colab": {}
      },
      "source": [
        "#Using DICOM Images\n",
        "import pydicom\n",
        "img = pydicom.dcmread('/content/drive/My Drive/AI-ML/Lab1/dcm.DCM')\n",
        "pixel_array_numpy = img.pixel_array\n",
        "\n",
        "image_format = '.jpg' # or '.png'\n",
        "img = img.replace('.dcm', image_format)\n",
        "\n",
        "cv2.imwrite(image_path, pixel_array_numpy)\n"
      ],
      "execution_count": null,
      "outputs": []
    },
    {
      "cell_type": "code",
      "metadata": {
        "id": "W2_0jYpkufML",
        "colab_type": "code",
        "colab": {}
      },
      "source": [
        "#Using video files\n",
        "cap = cv2.VideoCapture('/content/drive/My Drive/AI-ML/Lab1/HaemoBH.avi')\n",
        "if cap.isOpened()==False:\n",
        "  print(\"Error in opening video\")\n",
        "while(cap.isOpened()):\n",
        "  ret, frame = cap.read()\n",
        "  if ret == True:\n",
        "    cv2_imshow(frame)\n",
        "    if cv2.waitKey(25) & 0xFF == ord('q'): \n",
        "      break\n",
        "  else:\n",
        "    break\n",
        "cap.release()\n",
        "cap.destroyAllWindows()\n",
        "\n"
      ],
      "execution_count": null,
      "outputs": []
    },
    {
      "cell_type": "code",
      "metadata": {
        "id": "3zBgEaN47sCJ",
        "colab_type": "code",
        "colab": {}
      },
      "source": [
        "#Using Librosa"
      ],
      "execution_count": null,
      "outputs": []
    },
    {
      "cell_type": "code",
      "metadata": {
        "id": "fJ-Q5lf2wQQe",
        "colab_type": "code",
        "colab": {}
      },
      "source": [
        "import librosa\n",
        "import librosa.display\n",
        "from IPython.display import Audio\n",
        "import IPython.display as ipd\n",
        "y, sr = librosa.load('/content/drive/My Drive/AI-ML/Lab1/Haemo BH.mp3')\n",
        "plt.figure()\n",
        "librosa.display.waveplot(y=y, sr=sr)\n",
        "X = librosa.stft(y)\n",
        "Xdb = librosa.amplitude_to_db(abs(X))\n",
        "plt.figure(figsize=(14, 5))\n",
        "librosa.display.specshow(Xdb, sr=sr, x_axis='time', y_axis='hz')\n",
        "ipd.Audio('/content/drive/My Drive/AI-ML/Lab1/Haemo BH.mp3')"
      ],
      "execution_count": null,
      "outputs": []
    },
    {
      "cell_type": "code",
      "metadata": {
        "id": "oVzJlM13ziOq",
        "colab_type": "code",
        "colab": {}
      },
      "source": [
        "print(\"Time in seconds: \",librosa.samples_to_time(len(y), sr))\n",
        "print(\"Sampling Rate: \", sr)"
      ],
      "execution_count": null,
      "outputs": []
    },
    {
      "cell_type": "code",
      "metadata": {
        "id": "BDgqp5Fi6kVk",
        "colab_type": "code",
        "colab": {}
      },
      "source": [
        "mfccs = librosa.feature.mfcc(y=y, sr=sr, n_mfcc=40)\n",
        "plt.figure(figsize=(10, 4))\n",
        "librosa.display.specshow(mfccs, x_axis='time')\n",
        "plt.colorbar()\n",
        "plt.title('MFCC')\n",
        "plt.tight_layout()"
      ],
      "execution_count": null,
      "outputs": []
    },
    {
      "cell_type": "code",
      "metadata": {
        "id": "oCT8yprN7PMx",
        "colab_type": "code",
        "colab": {}
      },
      "source": [
        "librosa.stft(y)"
      ],
      "execution_count": null,
      "outputs": []
    },
    {
      "cell_type": "code",
      "metadata": {
        "id": "E4vbbQHE8cEa",
        "colab_type": "code",
        "colab": {}
      },
      "source": [
        "f = open(\"/content/drive/My Drive/AI-ML/Lab1/Windows 7 Readme.txt\", \"r\")\n",
        "print(f.read())"
      ],
      "execution_count": null,
      "outputs": []
    },
    {
      "cell_type": "code",
      "metadata": {
        "id": "qHcKxLHbCpLp",
        "colab_type": "code",
        "colab": {}
      },
      "source": [
        "import PyPDF2\n",
        "pdfFile = open(\"/content/drive/My Drive/AI-ML/Lab1/tut_2.pdf\", \"rb\")\n",
        "pdfReader = PyPDF2.PdfFileReader(pdfFile)\n",
        "print(pdfReader.numPages) \n",
        "pageObj = pdfReader.getPage(0) \n",
        "print(pageObj.extractText()) \n",
        "pdfFile.close() "
      ],
      "execution_count": null,
      "outputs": []
    },
    {
      "cell_type": "code",
      "metadata": {
        "id": "2HjtitPsDdo7",
        "colab_type": "code",
        "colab": {}
      },
      "source": [
        "import json\n",
        "f = open('/content/drive/My Drive/AI-ML/Lab1/json.json',) \n",
        "data = json.load(f) \n",
        "data"
      ],
      "execution_count": null,
      "outputs": []
    },
    {
      "cell_type": "code",
      "metadata": {
        "id": "MitSnTXgXP00",
        "colab_type": "code",
        "colab": {}
      },
      "source": [
        "from bs4 import BeautifulSoup \n",
        "\n",
        "with open('/content/drive/My Drive/AI-ML/Lab1/sample.xml', 'r') as f: \n",
        "    data = f.read() \n",
        "print(data)"
      ],
      "execution_count": null,
      "outputs": []
    },
    {
      "cell_type": "code",
      "metadata": {
        "id": "z84B_3jbYNpa",
        "colab_type": "code",
        "colab": {}
      },
      "source": [
        "import codecs\n",
        "f=codecs.open(\"/content/drive/My Drive/AI-ML/Lab1/html.html\", 'r')\n",
        "print(f.read())"
      ],
      "execution_count": null,
      "outputs": []
    },
    {
      "cell_type": "code",
      "metadata": {
        "id": "jszS0UnpYqBD",
        "colab_type": "code",
        "colab": {}
      },
      "source": [
        "from wordcloud import WordCloud, STOPWORDS \n",
        "import matplotlib.pyplot as plt \n",
        "import pandas as pd \n",
        "df = pd.read_csv(\"/content/drive/My Drive/AI-ML/Lab1/Youtube04-Eminem.csv\", encoding =\"latin-1\") \n",
        "  \n",
        "comment_words = '' \n",
        "stopwords = set(STOPWORDS) \n",
        "for val in df.CONTENT: \n",
        "      \n",
        "    \n",
        "    val = str(val) \n",
        "  \n",
        "    \n",
        "    tokens = val.split() \n",
        "      \n",
        "    \n",
        "    for i in range(len(tokens)): \n",
        "        tokens[i] = tokens[i].lower() \n",
        "      \n",
        "    comment_words += \" \".join(tokens)+\" \"\n",
        "  \n",
        "wordcloud = WordCloud(width = 800, height = 800, \n",
        "                background_color ='white', \n",
        "                stopwords = stopwords, \n",
        "                min_font_size = 10).generate(comment_words)                        \n",
        "plt.figure(figsize = (8, 8), facecolor = None) \n",
        "plt.imshow(wordcloud) \n",
        "plt.axis(\"off\") \n",
        "plt.tight_layout(pad = 0) \n",
        "  \n",
        "plt.show() "
      ],
      "execution_count": null,
      "outputs": []
    },
    {
      "cell_type": "code",
      "metadata": {
        "id": "DbN4stxlZtx2",
        "colab_type": "code",
        "colab": {}
      },
      "source": [
        ""
      ],
      "execution_count": null,
      "outputs": []
    }
  ]
}