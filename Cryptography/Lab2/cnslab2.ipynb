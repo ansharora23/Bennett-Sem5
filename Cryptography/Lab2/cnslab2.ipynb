{
  "nbformat": 4,
  "nbformat_minor": 0,
  "metadata": {
    "colab": {
      "name": "cnslab2.ipynb",
      "provenance": [],
      "collapsed_sections": []
    },
    "kernelspec": {
      "name": "python3",
      "display_name": "Python 3"
    }
  },
  "cells": [
    {
      "cell_type": "markdown",
      "metadata": {
        "id": "NKOnDwxH9zuQ",
        "colab_type": "text"
      },
      "source": [
        "\n",
        "# Affine Cypher\n",
        "\n"
      ]
    },
    {
      "cell_type": "code",
      "metadata": {
        "id": "5-xGj7uupMyy",
        "colab_type": "code",
        "colab": {
          "base_uri": "https://localhost:8080/",
          "height": 34
        },
        "outputId": "4a852373-2715-4a11-872a-7f55bfeb0c12"
      },
      "source": [
        "text = input(\"Enter text: \")\n",
        "# choice = int(input(\"Enter choice 1. Encrypt 2. Decrypt\"))\n",
        "choice = 1\n",
        "text = text.lower()"
      ],
      "execution_count": 1,
      "outputs": [
        {
          "output_type": "stream",
          "text": [
            "Enter text: ansh\n"
          ],
          "name": "stdout"
        }
      ]
    },
    {
      "cell_type": "code",
      "metadata": {
        "id": "-uL_P5gptv1J",
        "colab_type": "code",
        "colab": {
          "base_uri": "https://localhost:8080/",
          "height": 51
        },
        "outputId": "24c3c395-f8a9-44fe-8f7c-0bda7d414659"
      },
      "source": [
        "a = int(input(\"Enter coeff - a: \"))\n",
        "b = int(input(\"Enter coeff - b: \"))"
      ],
      "execution_count": 22,
      "outputs": [
        {
          "output_type": "stream",
          "text": [
            "Enter coeff - a: 3\n",
            "Enter coeff - b: 1\n"
          ],
          "name": "stdout"
        }
      ]
    },
    {
      "cell_type": "code",
      "metadata": {
        "id": "zEoWYEy4GtaD",
        "colab_type": "code",
        "colab": {
          "base_uri": "https://localhost:8080/",
          "height": 34
        },
        "outputId": "da3fa1a8-cd68-4fda-b707-6601f32735ee"
      },
      "source": [
        "a,b"
      ],
      "execution_count": 23,
      "outputs": [
        {
          "output_type": "execute_result",
          "data": {
            "text/plain": [
              "(3, 1)"
            ]
          },
          "metadata": {
            "tags": []
          },
          "execution_count": 23
        }
      ]
    },
    {
      "cell_type": "code",
      "metadata": {
        "id": "dGsj99Sk67Hu",
        "colab_type": "code",
        "colab": {}
      },
      "source": [
        "def egcd(a, b): \n",
        "    x,y, u,v = 0,1, 1,0\n",
        "    while a != 0: \n",
        "        q, r = b//a, b%a \n",
        "        m, n = x-u*q, y-v*q \n",
        "        b,a, x,y, u,v = a,r, u,v, m,n \n",
        "    gcd = b \n",
        "    return gcd, x, y \n",
        "  \n",
        "def modinv(a, m): \n",
        "    gcd, x, y = egcd(a, m) \n",
        "    if gcd != 1: \n",
        "        return None\n",
        "    else: \n",
        "        return x % m "
      ],
      "execution_count": 19,
      "outputs": []
    },
    {
      "cell_type": "code",
      "metadata": {
        "id": "7sPG9HyF8zFE",
        "colab_type": "code",
        "colab": {}
      },
      "source": [
        "def encrypt(text,a,b):\n",
        "  e=\"\"\n",
        "  for i in text:\n",
        "    fn = a*(ord(i) - 97) + b\n",
        "    e = e + chr((fn % 26)+97)\n",
        "  print(e)\n",
        "  "
      ],
      "execution_count": 24,
      "outputs": []
    },
    {
      "cell_type": "code",
      "metadata": {
        "id": "TikAcV8v_gp4",
        "colab_type": "code",
        "colab": {
          "base_uri": "https://localhost:8080/",
          "height": 34
        },
        "outputId": "8685e82d-f677-4fab-9770-3421baf6a15b"
      },
      "source": [
        "encrypt(text,a,b)"
      ],
      "execution_count": 25,
      "outputs": [
        {
          "output_type": "stream",
          "text": [
            "bodw\n"
          ],
          "name": "stdout"
        }
      ]
    },
    {
      "cell_type": "code",
      "metadata": {
        "id": "aq-zrfbAKreF",
        "colab_type": "code",
        "colab": {}
      },
      "source": [
        "def decrypt(text,a,b):\n",
        "  e=\"\"\n",
        "  for i in text:\n",
        "    e = e + chr((( modinv(a, 26)*(ord(i) - ord('a') - b))% 26) + 97)\n",
        "  print(e)\n",
        "  "
      ],
      "execution_count": 51,
      "outputs": []
    },
    {
      "cell_type": "code",
      "metadata": {
        "id": "5o6vdpbZMbpF",
        "colab_type": "code",
        "colab": {
          "base_uri": "https://localhost:8080/",
          "height": 34
        },
        "outputId": "159c73dc-dd78-4240-ab27-97156934986e"
      },
      "source": [
        "decrypt(text,a,b)"
      ],
      "execution_count": 52,
      "outputs": [
        {
          "output_type": "stream",
          "text": [
            "rexc\n"
          ],
          "name": "stdout"
        }
      ]
    },
    {
      "cell_type": "markdown",
      "metadata": {
        "id": "PPVcrjpu9t5H",
        "colab_type": "text"
      },
      "source": [
        "\n",
        "# Playfair Cypher"
      ]
    },
    {
      "cell_type": "code",
      "metadata": {
        "id": "TBL4kOHpRIqt",
        "colab_type": "code",
        "colab": {
          "base_uri": "https://localhost:8080/",
          "height": 102
        },
        "outputId": "05422acc-024e-466d-d138-022af63dcdaa"
      },
      "source": [
        "print(\"Key text:\")\n",
        "Key=input().lower()\n",
        "\n",
        "print(\"Plain text:\")\n",
        "X=[(x) for x in input().lower().split()]\n",
        "\n",
        "#Defining key_square\n",
        "key_square = [[0 for x in range(5)] for y in range(5)] \n",
        "\n",
        "omitted=[]\n",
        "for i in Key:\n",
        "  omitted.append(ord(i))\n",
        "omitted.append(ord('j'))\n",
        "\n",
        "row=0\n",
        "column=0\n",
        "for i in range(len(Key)):\n",
        "  key_square[row][column]=Key[i]\n",
        "  column+=1\n",
        "  if(column==5):\n",
        "    row+=1\n",
        "    column=0\n",
        "\n",
        "for i in range(26):\n",
        "  if(i+97 not in omitted):\n",
        "    key_square[row][column]=chr(i+97)\n",
        "    column+=1\n",
        "    if(column==5):\n",
        "      row+=1\n",
        "      column=0\n",
        "\n",
        "#functions to get encrypted letter\n",
        "def index_2d(myList, v):\n",
        "    for i, x in enumerate(myList):\n",
        "        if v in x:\n",
        "            return (i, x.index(v))\n",
        "\n",
        "def same_row(index1,index2):\n",
        "  index1[1]=index1[1]+1\n",
        "  index2[1]=index2[1]+1\n",
        "  if(index1[1]==5):\n",
        "    index1[1]=0\n",
        "  if(index2[1]==5):\n",
        "    index2[1]=0\n",
        "  word.append(key_square[index1[0]][index1[1]]+key_square[index2[0]][index2[1]])\n",
        "\n",
        "def same_column(index1,index2):\n",
        "  index1[0]=index1[0]+1\n",
        "  index2[0]=index2[0]+1\n",
        "  if(index1[0]==5):\n",
        "    index1[0]=0\n",
        "  if(index2[0]==5):\n",
        "    index2[0]=0\n",
        "  word.append(key_square[index1[0]][index1[1]]+key_square[index2[0]][index2[1]])\n",
        "\n",
        "def no_same(index1,index2):\n",
        "  index1[1],index2[1]=index2[1],index1[1]\n",
        "  word.append(key_square[index1[0]][index1[1]]+key_square[index2[0]][index2[1]])\n",
        "\n",
        "\n",
        "#final code\n",
        "ans=[]\n",
        "for i in X:\n",
        "  word=[]\n",
        "  split_string=[i[index : index + 2] for index in range(0, len(i), 2)]\n",
        "  if(len(split_string[-1])==1):\n",
        "    split_string[-1]=split_string[-1]+'z'\n",
        "\n",
        "  for j in split_string:\n",
        "    index1=list(index_2d(key_square,j[0]))\n",
        "    index2=list(index_2d(key_square,j[1]))\n",
        "\n",
        "    if(index1[0]==index2[0]):\n",
        "      same_row(index1,index2)\n",
        "\n",
        "    elif(index1[1]==index2[1]):\n",
        "      same_column(index1,index2)\n",
        "\n",
        "    else:\n",
        "      no_same(index1,index2)\n",
        "\n",
        "  ans.append(\"\".join(word))\n",
        "\n",
        "print(\"Cipher text:\",\" \".join(ans))"
      ],
      "execution_count": 54,
      "outputs": [
        {
          "output_type": "stream",
          "text": [
            "Key text:\n",
            "monarchy\n",
            "Plain text:\n",
            "instruments\n",
            "Cipher text: gatlmzclrqtx\n"
          ],
          "name": "stdout"
        }
      ]
    },
    {
      "cell_type": "code",
      "metadata": {
        "id": "YK2AuXlYB1_e",
        "colab_type": "code",
        "colab": {}
      },
      "source": [
        ""
      ],
      "execution_count": null,
      "outputs": []
    }
  ]
}