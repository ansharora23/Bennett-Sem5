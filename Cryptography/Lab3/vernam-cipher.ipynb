{
  "nbformat": 4,
  "nbformat_minor": 0,
  "metadata": {
    "colab": {
      "name": "Untitled8.ipynb",
      "provenance": []
    },
    "kernelspec": {
      "name": "python3",
      "display_name": "Python 3"
    }
  },
  "cells": [
    {
      "cell_type": "code",
      "metadata": {
        "id": "wrn80x4Tn_VF",
        "colab_type": "code",
        "colab": {
          "base_uri": "https://localhost:8080/",
          "height": 51
        },
        "outputId": "d1a27feb-da82-4145-a63b-910c1a0e4031"
      },
      "source": [
        "plain = list(map(int,input(\"Enter plaintext: \").split()))\n",
        "key = list(map(int,input(\"Enter key: \").split()))"
      ],
      "execution_count": 5,
      "outputs": [
        {
          "output_type": "stream",
          "text": [
            "Enter plaintext: 0 0 1 0 1 1 0 1 0 1 1 1\n",
            "Enter key: 1 0 0 1 1 1 0 0 1 0 1 1\n"
          ],
          "name": "stdout"
        }
      ]
    },
    {
      "cell_type": "code",
      "metadata": {
        "id": "g_fB3czKoVgS",
        "colab_type": "code",
        "colab": {}
      },
      "source": [
        "def encrypt():\n",
        "  if(len(plain)!=len(key)):\n",
        "    print(\"Invalid Input\")\n",
        "  else:\n",
        "    result = []\n",
        "    for i in range(len(plain)):\n",
        "      result.append(plain[i] ^ key[i])\n",
        "  return result"
      ],
      "execution_count": 9,
      "outputs": []
    },
    {
      "cell_type": "code",
      "metadata": {
        "id": "OSVvynSFpxje",
        "colab_type": "code",
        "colab": {
          "base_uri": "https://localhost:8080/",
          "height": 34
        },
        "outputId": "22cd1e25-fa57-491a-edd6-b846efb60195"
      },
      "source": [
        "encrypt()"
      ],
      "execution_count": 10,
      "outputs": [
        {
          "output_type": "execute_result",
          "data": {
            "text/plain": [
              "[1, 0, 1, 1, 0, 0, 0, 1, 1, 1, 0, 0]"
            ]
          },
          "metadata": {
            "tags": []
          },
          "execution_count": 10
        }
      ]
    },
    {
      "cell_type": "code",
      "metadata": {
        "id": "2dJT5wKSp2VH",
        "colab_type": "code",
        "colab": {}
      },
      "source": [
        ""
      ],
      "execution_count": null,
      "outputs": []
    }
  ]
}